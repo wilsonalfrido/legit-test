{
 "cells": [
  {
   "cell_type": "markdown",
   "id": "fd724bc7",
   "metadata": {},
   "source": [
    "# Load data & libraries"
   ]
  },
  {
   "cell_type": "code",
   "execution_count": 284,
   "id": "847e8d3a",
   "metadata": {},
   "outputs": [],
   "source": [
    "import xgboost as xgb\n",
    "import pandas as pd\n",
    "import matplotlib.pyplot as plt\n",
    "import seaborn as sns\n",
    "import numpy as np\n",
    "color_pal = sns.color_palette()\n",
    "\n",
    "from sklearn.preprocessing import MinMaxScaler\n",
    "from sklearn.metrics import mean_squared_error, mean_absolute_error\n",
    "from sklearn.model_selection import train_test_split\n",
    "from bayes_opt import BayesianOptimization"
   ]
  },
  {
   "cell_type": "code",
   "execution_count": 2,
   "id": "913faf5b",
   "metadata": {},
   "outputs": [
    {
     "data": {
      "text/html": [
       "<div>\n",
       "<style scoped>\n",
       "    .dataframe tbody tr th:only-of-type {\n",
       "        vertical-align: middle;\n",
       "    }\n",
       "\n",
       "    .dataframe tbody tr th {\n",
       "        vertical-align: top;\n",
       "    }\n",
       "\n",
       "    .dataframe thead th {\n",
       "        text-align: right;\n",
       "    }\n",
       "</style>\n",
       "<table border=\"1\" class=\"dataframe\">\n",
       "  <thead>\n",
       "    <tr style=\"text-align: right;\">\n",
       "      <th></th>\n",
       "      <th>salesdate</th>\n",
       "      <th>menuid</th>\n",
       "      <th>menuname</th>\n",
       "      <th>menu_group</th>\n",
       "      <th>qty_total</th>\n",
       "    </tr>\n",
       "  </thead>\n",
       "  <tbody>\n",
       "    <tr>\n",
       "      <th>4391</th>\n",
       "      <td>2022-05-16</td>\n",
       "      <td>157</td>\n",
       "      <td>Spicy Gyudon</td>\n",
       "      <td>Spicy Gyudon</td>\n",
       "      <td>1</td>\n",
       "    </tr>\n",
       "    <tr>\n",
       "      <th>4383</th>\n",
       "      <td>2022-05-16</td>\n",
       "      <td>272</td>\n",
       "      <td>Sayur Singkong + Telur Barendo - Longboard</td>\n",
       "      <td>0</td>\n",
       "      <td>1</td>\n",
       "    </tr>\n",
       "    <tr>\n",
       "      <th>4382</th>\n",
       "      <td>2022-05-16</td>\n",
       "      <td>1</td>\n",
       "      <td>Sei Sapi Matah Regular</td>\n",
       "      <td>Sei Sapi sambal matah</td>\n",
       "      <td>1</td>\n",
       "    </tr>\n",
       "  </tbody>\n",
       "</table>\n",
       "</div>"
      ],
      "text/plain": [
       "       salesdate  menuid                                    menuname  \\\n",
       "4391  2022-05-16     157                                Spicy Gyudon   \n",
       "4383  2022-05-16     272  Sayur Singkong + Telur Barendo - Longboard   \n",
       "4382  2022-05-16       1                      Sei Sapi Matah Regular   \n",
       "\n",
       "                 menu_group  qty_total  \n",
       "4391           Spicy Gyudon          1  \n",
       "4383                      0          1  \n",
       "4382  Sei Sapi sambal matah          1  "
      ]
     },
     "execution_count": 2,
     "metadata": {},
     "output_type": "execute_result"
    }
   ],
   "source": [
    "df = pd.read_csv(\"../dataset/interview-test.csv\")\n",
    "df.sort_values(by='salesdate', inplace = True)\n",
    "df.head(3)"
   ]
  },
  {
   "cell_type": "markdown",
   "id": "b9687ef6",
   "metadata": {},
   "source": [
    "- salesdate: the day sales happen\n",
    "- menuid: menu identification for the menu. (sometimes same menuname not gruanted to have identical menuid)\n",
    "- menuname: name of the menu. (FS means flash sales, B1G1 means buy 1 get 1, etc)\n",
    "- qty_total: total of menu ordered"
   ]
  },
  {
   "cell_type": "code",
   "execution_count": 3,
   "id": "6ef39266",
   "metadata": {},
   "outputs": [
    {
     "name": "stdout",
     "output_type": "stream",
     "text": [
      "<class 'pandas.core.frame.DataFrame'>\n",
      "Int64Index: 8902 entries, 4391 to 795\n",
      "Data columns (total 5 columns):\n",
      " #   Column      Non-Null Count  Dtype \n",
      "---  ------      --------------  ----- \n",
      " 0   salesdate   8902 non-null   object\n",
      " 1   menuid      8902 non-null   int64 \n",
      " 2   menuname    8902 non-null   object\n",
      " 3   menu_group  8902 non-null   object\n",
      " 4   qty_total   8902 non-null   int64 \n",
      "dtypes: int64(2), object(3)\n",
      "memory usage: 417.3+ KB\n"
     ]
    }
   ],
   "source": [
    "df.info()"
   ]
  },
  {
   "cell_type": "code",
   "execution_count": 4,
   "id": "10e459ea",
   "metadata": {},
   "outputs": [
    {
     "data": {
      "text/html": [
       "<div>\n",
       "<style scoped>\n",
       "    .dataframe tbody tr th:only-of-type {\n",
       "        vertical-align: middle;\n",
       "    }\n",
       "\n",
       "    .dataframe tbody tr th {\n",
       "        vertical-align: top;\n",
       "    }\n",
       "\n",
       "    .dataframe thead th {\n",
       "        text-align: right;\n",
       "    }\n",
       "</style>\n",
       "<table border=\"1\" class=\"dataframe\">\n",
       "  <thead>\n",
       "    <tr style=\"text-align: right;\">\n",
       "      <th></th>\n",
       "      <th>count</th>\n",
       "      <th>unique</th>\n",
       "      <th>top</th>\n",
       "      <th>freq</th>\n",
       "      <th>mean</th>\n",
       "      <th>std</th>\n",
       "      <th>min</th>\n",
       "      <th>25%</th>\n",
       "      <th>50%</th>\n",
       "      <th>75%</th>\n",
       "      <th>max</th>\n",
       "    </tr>\n",
       "  </thead>\n",
       "  <tbody>\n",
       "    <tr>\n",
       "      <th>salesdate</th>\n",
       "      <td>8902</td>\n",
       "      <td>101</td>\n",
       "      <td>2023-04-08</td>\n",
       "      <td>244</td>\n",
       "      <td>NaN</td>\n",
       "      <td>NaN</td>\n",
       "      <td>NaN</td>\n",
       "      <td>NaN</td>\n",
       "      <td>NaN</td>\n",
       "      <td>NaN</td>\n",
       "      <td>NaN</td>\n",
       "    </tr>\n",
       "    <tr>\n",
       "      <th>menuid</th>\n",
       "      <td>8902.0</td>\n",
       "      <td>NaN</td>\n",
       "      <td>NaN</td>\n",
       "      <td>NaN</td>\n",
       "      <td>457.300719</td>\n",
       "      <td>238.769876</td>\n",
       "      <td>1.0</td>\n",
       "      <td>234.0</td>\n",
       "      <td>515.0</td>\n",
       "      <td>638.0</td>\n",
       "      <td>994.0</td>\n",
       "    </tr>\n",
       "    <tr>\n",
       "      <th>menuname</th>\n",
       "      <td>8902</td>\n",
       "      <td>370</td>\n",
       "      <td>Plastic Spoon</td>\n",
       "      <td>191</td>\n",
       "      <td>NaN</td>\n",
       "      <td>NaN</td>\n",
       "      <td>NaN</td>\n",
       "      <td>NaN</td>\n",
       "      <td>NaN</td>\n",
       "      <td>NaN</td>\n",
       "      <td>NaN</td>\n",
       "    </tr>\n",
       "    <tr>\n",
       "      <th>menu_group</th>\n",
       "      <td>8902</td>\n",
       "      <td>63</td>\n",
       "      <td>0</td>\n",
       "      <td>4665</td>\n",
       "      <td>NaN</td>\n",
       "      <td>NaN</td>\n",
       "      <td>NaN</td>\n",
       "      <td>NaN</td>\n",
       "      <td>NaN</td>\n",
       "      <td>NaN</td>\n",
       "      <td>NaN</td>\n",
       "    </tr>\n",
       "    <tr>\n",
       "      <th>qty_total</th>\n",
       "      <td>8902.0</td>\n",
       "      <td>NaN</td>\n",
       "      <td>NaN</td>\n",
       "      <td>NaN</td>\n",
       "      <td>1.132105</td>\n",
       "      <td>0.609869</td>\n",
       "      <td>1.0</td>\n",
       "      <td>1.0</td>\n",
       "      <td>1.0</td>\n",
       "      <td>1.0</td>\n",
       "      <td>21.0</td>\n",
       "    </tr>\n",
       "  </tbody>\n",
       "</table>\n",
       "</div>"
      ],
      "text/plain": [
       "             count unique            top  freq        mean         std  min  \\\n",
       "salesdate     8902    101     2023-04-08   244         NaN         NaN  NaN   \n",
       "menuid      8902.0    NaN            NaN   NaN  457.300719  238.769876  1.0   \n",
       "menuname      8902    370  Plastic Spoon   191         NaN         NaN  NaN   \n",
       "menu_group    8902     63              0  4665         NaN         NaN  NaN   \n",
       "qty_total   8902.0    NaN            NaN   NaN    1.132105    0.609869  1.0   \n",
       "\n",
       "              25%    50%    75%    max  \n",
       "salesdate     NaN    NaN    NaN    NaN  \n",
       "menuid      234.0  515.0  638.0  994.0  \n",
       "menuname      NaN    NaN    NaN    NaN  \n",
       "menu_group    NaN    NaN    NaN    NaN  \n",
       "qty_total     1.0    1.0    1.0   21.0  "
      ]
     },
     "execution_count": 4,
     "metadata": {},
     "output_type": "execute_result"
    }
   ],
   "source": [
    "df.describe(include = ['object','int','float']).T"
   ]
  },
  {
   "cell_type": "code",
   "execution_count": 5,
   "id": "ab5df105",
   "metadata": {},
   "outputs": [
    {
     "data": {
      "text/plain": [
       "(8902, 5)"
      ]
     },
     "execution_count": 5,
     "metadata": {},
     "output_type": "execute_result"
    }
   ],
   "source": [
    "df.shape"
   ]
  },
  {
   "cell_type": "markdown",
   "id": "2c138e9b",
   "metadata": {},
   "source": [
    "# EDA"
   ]
  },
  {
   "cell_type": "code",
   "execution_count": 6,
   "id": "371f81f1",
   "metadata": {},
   "outputs": [],
   "source": [
    "menu_grup_unique = df[\"menu_group\"].unique()\n",
    "menu_name_unique = df[\"menuname\"].unique()"
   ]
  },
  {
   "cell_type": "code",
   "execution_count": 7,
   "id": "866bf48e",
   "metadata": {},
   "outputs": [],
   "source": [
    "df['new_col'] = list(zip(df.menu_group, df.menuname))\n",
    "\n",
    "\"\"\"\n",
    "menu_dict = {menu_group: [menu_name]}. menu dict is used to know how many different menu_name in each menu_group\n",
    "\"\"\"\n",
    "\n",
    "menu_dict = {}\n",
    "for menu_zipped in df['new_col'].unique():\n",
    "    for i,data in enumerate(menu_zipped):\n",
    "        if(i == 0):\n",
    "            key = data\n",
    "            if(key not in menu_dict.keys()):\n",
    "                menu_dict[key] = list()\n",
    "        if(i == 1):\n",
    "            if(data not in menu_dict[key]):\n",
    "                menu_dict[key].append(data)\n",
    "df.drop('new_col',axis = 1,inplace = True)"
   ]
  },
  {
   "cell_type": "code",
   "execution_count": 8,
   "id": "48371857",
   "metadata": {},
   "outputs": [
    {
     "name": "stdout",
     "output_type": "stream",
     "text": [
      "Spicy Gyudon : ['Spicy Gyudon', 'Truffle Gyudon Aburi, Spicy Gyudon, Miso Gyudon Aburi', 'Free Ryujin - 1 porsi Spicy Gyudon', 'Spicy Gyudon Aburi', '[FS] Spicy Gyudon', 'Best Deal Miso & Spicy Gyudon Aburi']\n",
      "0 : ['Sayur Singkong + Telur Barendo - Longboard', 'Teriyaki Gyudon', 'Sayur Daun Singkong + Telur Barendo - Small', 'Pasta Duo', 'Ninniku Gyudon', '3 SEI SAPI', 'Juju Daebak', 'Seaweed Pepper', 'Jagung Bakar', 'Sei Sultan Embe Regular', 'Sei Siram', 'NaSei Goreng Pedas', 'Steamed White Rice', 'Honey Butter Soy', '2 SEI SULTAN', 'PASTA MADNESS', 'Double Sayur Daun Singkong - Small', 'Samyang', 'Garlic Parmesan', 'Korean Seasoned Rice', 'JUJU PARTY', 'PASTA PARTY', 'Sei Ayam Embe Regular', 'Combo Seleb Viral!', 'Sambal Belimbing Wuluh', 'Chefs Special', 'JUJUTIZEN SET', 'Truffle Tuesday!', '[Flash Sale] Sei Sultan', 'Makin Sultan', 'Free Pastaria - 1 porsi Spaghetti', 'Voucher Red Rider Set', 'RED RIDER BUNDLE', 'Voucher Crimson Set', 'Sei Ayam Regular', 'CRIMSON BUNDLE', 'Free Plastic Spoon & Fork', 'Sei Ayam Embe Small', 'Paper Bag Brown Pastaria', 'SWORDSMAN BUNDLE', 'Plain Rice', 'Caramelised Butter Chicken Rice', '+CEBAN (10RB) DAPAT 2!', 'Double Sayur Daun Singkong - Longboard', '[FS] Sei Ayam Regular', 'Plastic Spoon', '(ALC)Caramelised Butter Chicken', 'Signature Sek Fan Chicken Rice', 'Combo Blasteran', 'Truffle & Friends', 'Duo Sumatera', 'Truffle Oil', 'Tambah 15RB dapat SEKFAN CHICKEN RICE BOWL', 'Tambah 20RB dapat RYUJIN BEEF BOWL', 'Truffle Squad', 'Tambah 15RB dapat SEKFAN CHICKEN RICE BOWL (P)', 'Sekfan Weekly Best Seller', 'Ryujin weekly Best Seller', 'Truffle Duo', 'Free Mac and Cheese', 'Classic Beef Deal (20K)', 'Premium Beef Deal (20K)', 'Premium Beef Deal', 'Classic Beef Deal', '[FS] Mac and Cheese', 'SeiKeluarga Makan Padang', 'Sei Sapi Premium Sambal Rica', 'Sei Sultan Sambal Rica', 'Chicken Deluxe', 'Beef Deluxe', 'Legit Group Care', 'Creamy Squad', 'Truffle Buddies', '(1/2) Buncis Bawang Putih', 'Sei Sapi Sambal Andaliman', 'CREATE YOUR OWN SEKFAN', '(1/2) White Rice', 'Sei Sultan Mix (Sapi & Ayam) Sambal Rica', 'Triple Italian Classic', 'Tebus Murah Chicken Katsu with Miso Mayo & Sambal Korek', 'Chilli Oil', 'Pastaria Bagi Bagi Hadiah 2', 'SekFan Bagi Bagi Hadiah 2', 'SeiTan Bagi Bagi Hadiah 2', 'Mau Free Iphone 14', 'Mau Free 1 Surprise Menu', 'Ryujin Bagi Bagi Hadiah 1', 'Pastaria Bagi Bagi Hadiah 1', 'SeiTan Bagi Bagi Hadiah 1', 'Ryujin Bagi Bagi Hadiah 2', 'SekFan Bagi Bagi Hadiah 1', 'Mau Free Fine Dining at SKYE', 'Mau Free Corkcicle', 'Mau Free Airpods', 'Sayur Daun Singkong + Telur Mata Sapi', 'Beijing Fried Noodles', 'Shanghai Fried Rice', 'Double Sultan', 'Mie Judes Sultan', 'Sambal Matah | Level 2 Judes Nagih', 'Sambal Matah | Level 3 Judes Sadis', 'Mie Judes Ayam', 'Sambal Korek | Level 3 Judes Sadis', 'Sambal Korek', 'Angpao Hoki', 'Sambal Korek | Level 2 Judes Nagih', 'Show Your Love A', 'Self Love B', 'Self Love A', '1 Protein + 1 Carbo (or Half - Half)', 'Paket Nagih A', 'Show Your Love B', 'Show Your Love C', 'Bucin B1G1', 'Jomblo 3', 'BUY 3 GET 1 FREE', 'Cabe Garam Chicken CYO', 'Paket Cuan A', 'Jomblo 1', 'Bucin 2', '2 pcs Fried Chilli Garlic', 'Paket Nagih B', 'Bucin 1', 'Paket Cengli Berdua', 'Paket Cuan B', 'Jomblo 2', 'Berkah Berdua A', 'Bukber Hemat A', 'Bukber Hemat B', 'Berkah Berdua B', 'Kenyang Berdua SekFan', 'Kenyang Bertiga SekFan Komplit', 'Kenyang Berdua SekFan Komplit', 'Berkah Bertiga', 'For You & your JunioRIAns', 'Mac & Cheese Smoked Beef Junior', 'Buncis Bawang Putih ', 'Tumis Sayur Telur Orak Arik', 'Tahu Crispy Cereal', '1 Protein + 1 Vegetables + 1/2 Carbo', 'Berkah B1G1', 'Tumis Sayur Telur Orak Arik (50g)', '(ALC)Beef Black Pepper', 'Beef Black Pepper Rice', 'Vegetable Spring Rolls (3pcs)', 'SeiTan Gratis Minuman (Single)', 'Unicorn Calamansi', 'Pastaria Gratis Minuman (Double)', 'Pastaria Gratis Minuman (Single)', 'SekFan Gratis Minuman (Single)', 'Beef Black Pepper', 'Mix Siomay & Wonton (3pcs)', '(2 Pax) Chicken skin 30gr', 'SekFan Gratis Minuman (Double A)', 'SeiTan Gratis Minuman (Double)', 'SeiTan Rice Box', 'Snack - Curly Fries', 'Snack - Onion Rings', 'Paket Bedug 1', 'BukbeRIA Sendiri', 'Ayam Tinoransak Ricebox', \"B1G1 Nase'i Bungkus Ayam Padang\", 'Gorengan - Lumpia Sayur Goreng', 'Tahu Crispy Cereal (50g)', 'Gorengan - Siomay & Pangsit Goreng', 'Ramadan Puas 1', 'SekFan Rice Bowl CYO', 'Bakwan Jagung (3pcs)', 'Ramadan Puas 2', 'Paket Bedug 3', 'Puas - Mix Siomay & Wonton', 'Pastaria (Next Level Pasta)', 'Curly Fries', 'Onion Rings', 'BukbeRIA Berdua', 'BukberRIA Ramean', 'Puas - Tahu Crispy Cereal', 'Lychee Tea with Nata de Coco', 'Bakwan Jagung', '2 Lychee Tea with Nata de Coco', '3 Lychee Tea with Nata de Coco', '(2 Pax) Telur mata sapi', 'Paket Bedug 2', 'Tahu Lada Garam (50g)', 'Puas - Tumis Sayur Telur Orak Arik', 'Puas - Vegetable Spring Rolls', 'Traktir Driver-mu', 'Tahu Lada Garam', 'Paket Hampers isi 3', '2 Pangsit Ayam Goreng', '2 Siomay Ayam Goreng', 'Lumpia Sayur Goreng (1pcs)', 'Snack Komplit (5pcs)', 'Mix Platter', 'Mix Siomay & Pangsit Goreng (3pcs)', 'Siomay Goreng (1pcs)', '2 Fried Chicken Wonton', '2 Fried Chicken Siomay', 'Vegetable Spring Rolls (1pcs)', 'Big Sale C', 'Paket BM D', 'Pangsit Goreng (1pcs)', 'Fried Wonton (1pcs)', 'Fried Siomay (1pcs)', 'Paket BM C', 'Paket BM B', 'Paket BM E', 'Snack Single (1pc)', 'Deal C', 'Big Sale A', 'Paket BM A', 'Trio Asian Classic']\n",
      "Sei Sapi sambal matah : ['Sei Sapi Matah Regular', 'Sei Sapi Matah Small', 'Sei Sapi Matah Sambal diatas daging', 'Sei Sapi Matah Sambal dipisah']\n",
      "Sei Ayam sambal matah : ['Sei Ayam Matah Small', 'Sei Ayam Matah Regular']\n",
      "Sei Sapi sambal andaliman : ['Sei Sapi Andaliman Sambal diatas daging', 'Sei Sapi Andaliman Regular', 'Sei Sapi Andaliman Sambal dipisah', 'Sei Sapi Andaliman Small']\n",
      "Sei Sapi sambal rica : ['Sei Sapi Rica Sambal diatas daging', 'Sei Sapi Rica Regular', 'Sei Sapi Rica Small']\n",
      "Extra Item : ['Extra Nasi Putih', 'Extra Smoked Beef', 'Extra Prawn', 'Extra Sayur Singkong', 'Extra Sambal Belimbing Wuluh', 'Extra Sambal Rica', 'Extra Sambal Matah', 'Extra Sei Sapi', 'Extra Sambal Andaliman', 'Extra Sambal Embe', 'Extra Prawn & Kani', 'Extra Telor Barendo', 'Extra Sei Sapi Premium (30gr)', 'Extra Sayur Daun Singkong Kecombrang', 'Extra Sambal Korek']\n",
      "Sei Sapi Belimbing Wuluh  : ['Sei Sapi Belimbing Wuluh Regular']\n",
      "Miso Gyudon : ['Miso Gyudon Aburi', ' Miso Gyudon Aburi + Truffle Gyudon Aburi', '[FS] Miso Gyudon Aburi']\n",
      "Mentai Gyudon : ['Mentai Gyudon Aburi', '[FS] Mentai Gyudon Aburi']\n",
      "Sei Ayam Longboard : ['Sei Ayam Longboard']\n",
      "Korean Fried Chicken Wings : ['10pcs Korean Fried Chicken Wings', '5pcs Korean Fried Chicken Wings', '20pcs Korean Fried Chicken Wings']\n",
      "Sei Sultan sambal rica : ['Sei Sultan Rica Regular', 'Sei Sultan Rica sambal pisah', 'Tebus Murah Sei Sultan Mix Sambal Rica']\n",
      "Sei Sultan sambal matah : ['Sei Sultan Matah Regular', 'Sei Sultan Matah sambal pisah']\n",
      "Sei Ayam sambal andaliman : ['Sei Ayam Andaliman Regular']\n",
      "Sei Sapi Premium Longboard : ['Sei Sapi Premium Longboard']\n",
      "Sei Sultan sambal andaliman : ['Sei Sultan Andaliman Regular', 'Sei Sultan Andaliman Sambal pisah', 'Sei Sultan Andaliman Sambal diatas daging']\n",
      "Sei Sultan Belimbing Wuluh : ['Sei Sultan Belimbing Wuluh sambal pisah', 'Sei Sultan Belimbing Wuluh Regular']\n",
      "Sei Sapi sambal Embe : ['Sei Sapi Embe Sambal dipisah', 'Sei Sapi Embe Regular']\n",
      "Sei Ayam Belimbing Wuluh : ['Sei Ayam Belimbing Wuluh Regular', 'Sei Ayam Belimbing Wuluh Small']\n",
      "Spaghetti Spicy Seafood Mentai : ['[Flash Sale] Spaghetti Spicy Seafood Mentai', 'Tebus Murah Spaghetti Spicy Seafood Mentai', 'B1G1 Spaghetti Spicy Seafood Mentai']\n",
      "Truffle Gyudon : ['[Flash Sale] Creamy Truffle Gyudon Aburi']\n",
      "Sei Ayam sambal rica : ['Sei Ayam Rica Regular']\n",
      "Spaghetti with Truffle Cream and Chicken : ['Spaghetti with Truffle Cream and Chicken (Seasonal Menu)', '[FS] Spaghetti with Truffle Cream and Chicken']\n",
      "Buttermilk Chicken : ['(ALC)Buttermilk Chicken', 'Buttermilk Chicken']\n",
      "Black Pepper Chicken : ['Black Pepper Chicken Rice', '[FS] Blackpepper Chicken Rice', '[FS2] Black Pepper Chicken Rice', '[FS] Black Pepper Chicken Rice', 'Black Pepper Chicken', '(ALC)Black Pepper Chicken', 'CYO Blackpepper Chicken']\n",
      "Kung Pao Chicken : ['Kung Pao Chicken Rice', '(ALC)Kung Pao Chicken', 'Kung Pao Chicken']\n",
      "Crispy Cereal Chicken : ['(ALC)Crispy Cereal Chicken', '(ALC)Signature Crispy Cereal Chicken', '[FS] Signature Crispy Cereal Chicken Rice', 'Signature Crispy Cereal Chicken', 'CYO Crispy Cereal Chicken', '#BM Crispy Cereal Chicken Rice', '#BM Crispy Cereal Chicken CYO', '#BM 2 Crispy Cereal Chicken CYO']\n",
      "Spaghetti Cakalang Cabe Ijo : ['Spaghetti Cakalang Cabe Ijo Aglio Olio']\n",
      "Spaghetti Gulai Ayam : ['Spaghetti Gulai Ayam']\n",
      "Spaghetti Bolognese Brulee : ['[FS] Spaghetti Bolognese Brulee', 'Tebus Murah Spaghetti Bolognese Brulee', 'B1G1 Spaghetti Bolognese Brulee']\n",
      "Classic Mentega Chicken : ['(ALC)Classic Mentega Chicken', '[FS]Classic Mentega Chicken Rice', 'Classic Mentega Chicken', 'CYO Classic Mentega Chicken']\n",
      "Spaghetti Chicken & Mushroom Crema : ['[FS]Spaghetti Chicken & Mushroom Crema']\n",
      "Nasei Bungkus Ayam Padang : ['[FS] Nasei Bungkus Ayam Padang']\n",
      "Spaghetti Smoked Beef Garlic Butter : ['[FS] Spaghetti Smoked Beef Garlic Butter']\n",
      "Sei Ayam Juicy : ['Extra Sei Ayam Juicy (30gr)', 'Sei Ayam Juicy Sambal Rica']\n",
      "Spaghetti Prawn/Chicken Aglio Olio : ['[FS] Spaghetti Prawn/Chicken Aglio Olio']\n",
      "Ninniku Gyudon : ['[FS] Ninniku Gyudon Aburi']\n",
      "Teriyaki Gyudon : ['[FS] Teriyaki Gyudon Aburi', '[FS2] Teriyaki Gyudon Aburi', 'Tebus Murah Teriyaki Gyudon Aburi']\n",
      "Gyudon Aburi with Miso Mayo & Sambal Korek : ['Gyudon Aburi with Miso Mayo & Sambal Korek', '[FS] Gyudon Aburi with Miso Mayo & Sambal Korek', 'Tebus Murah Gyudon Aburi with Miso Mayo & Sambal Korek']\n",
      "Spaghetti with Truffle Cream & Chicken : ['Tebus Murah Spaghetti with Truffle Cream & Chicken']\n",
      "Spaghetti Carbonara Smoked Beef : ['Tebus Murah Spaghetti Carbonara Smoked Beef']\n",
      "Nasei Bungkus Sapi Padang : ['Nasei Bungkus Sapi Padang']\n",
      "Chicken Katsu Don : ['+15Ribu dapat Ryujin Chicken Katsu Don', 'B1G1 Beef Bowl FREE Chicken Katsu Don', 'B1G1 Chicken Katsu Don']\n",
      "Nachos with Cajun Sauce : ['Nachos with Cajun Sauce']\n",
      "Sweet and Spicy Chicken : ['(ALC)Sweet and Spicy Chicken', 'Sweet and Spicy Chicken Rice', 'Sweet and Spicy Chicken', '[FS] Sweet and Spicy Chicken Rice']\n",
      "Nachos with Sambal : ['Nachos with Sambal']\n",
      "Chicken Skin : ['Chicken Skin (30gr)', 'Extra Chicken Skin', 'Nachos and Crispy Chicken Skin with Cajun Sauce', 'Nachos and Crispy Chicken Skin with Sambal', 'Chicken Skin Box', 'Nachos Chicken Skin with Bolognese Sauce']\n",
      "Spaghetti Samyang Carbonara : ['Mie Spaghetti Samyang Carbonara', 'B1G1 Mie Spaghetti Samyang Carbonara']\n",
      "Bumbu Cabe Garam Chicken : ['Bumbu Cabe Garam Chicken Rice', '(ALC)Bumbu Cabe Garam Chicken', 'Bumbu Cabe Garam Chicken']\n",
      "Korean Hot Sauce Chicken : ['Korean Hot Sauce Chicken Rice', 'Korean Hot Sauce Chicken', '[FS] Korean Hot Sauce Chicken Rice', '(ALC)Korean Hot Sauce Chicken']\n",
      "Beef Gyudon Aburi : ['B1G1 Beef Gyudon Aburi']\n",
      "Classic Spaghetti Bolognese : ['[FS] Classic Spaghetti Bolognese', 'Classic Spaghetti Bolognese', 'B1G1 Classic Spaghetti Bolognese', 'Classic Spaghetti Bolognese Junior']\n",
      "Caramelized Butter Chicken : ['Caramelized Butter Chicken Rice', 'Caramelized Butter Chicken CYO', 'Caramelized Butter Chicken', '(ALC)Caramelized Butter Chicken', 'Spicy Caramelized Butter Chicken Rice', 'Spicy Caramelized Butter Chicken']\n",
      "Nachos with Bolognese Sauce : ['Nachos with Bolognese Sauce']\n",
      "Sei Sapi Platter : ['Sei Sapi Platter']\n",
      "Spaghetti Sausage Alfredo Junior : ['Spaghetti Sausage Alfredo Junior']\n",
      "Sei Ayam Platter : ['Sei Ayam Platter']\n",
      "Chicken Dice Kungpao : ['(ALC)Chicken Dice Kungpao', 'Chicken Dice Kungpao Rice', 'Chicken Dice Kungpao']\n",
      "Sei Sultan Platter : ['Sei Sultan Platter']\n",
      "Spaghetti Chicken Singapore Laksa : ['Spaghetti Chicken Singapore Laksa']\n",
      "Spaghetti Chicken Soto : ['Spaghetti Chicken Soto']\n",
      "Spaghetti Chicken Malaysian Kari : ['Spaghetti Chicken Malaysian Kari']\n"
     ]
    }
   ],
   "source": [
    "for menu_group,menu_name in menu_dict.items():\n",
    "    print(f\"{menu_group} : {menu_name}\", end=\"\\n\")"
   ]
  },
  {
   "cell_type": "markdown",
   "id": "f17cf3a3",
   "metadata": {},
   "source": [
    "- Berdasarkan data pada variabel <b>menu_dict</b>, secara keseluruhan data pada kolom <b>menu_group</b> sudah mewakili jenis menu makanan itu sendiri dan pada data <b>menu_name</b> merupakan tambahan dari menu yang terdapat pada <b>menu_group</b> seperti adanya <i>flash sale</i>,  <i>buy 1 get 1</i>, tambahan porsi, dll. Oleh karena itu, perancangan model <i>demand forecasting</i> dilakukan pada <b>menu_group</b>\n",
    "- Based on the data in the <b>menu_dict</b> variable, overall, the data in the <b>menu_group</b> column represents the type of food menu itself, and the <b>menu_name</b> data is an additional description for the menus in <b>menu_group</b> , such as <i>flash sale</i>, <i>buy 1 get 1</i>, <i>extra portion</i>, etc. Therefore, the design of the demand forecasting model is performed based on the <b>menu_group</b>."
   ]
  },
  {
   "cell_type": "code",
   "execution_count": 9,
   "id": "8370be16",
   "metadata": {},
   "outputs": [],
   "source": [
    "df[\"salesdate\"] = pd.to_datetime(df[\"salesdate\"],format=\"%Y-%m-%d\")\n",
    "df.set_index(\"salesdate\",inplace = True)"
   ]
  },
  {
   "cell_type": "code",
   "execution_count": 10,
   "id": "8a967821",
   "metadata": {},
   "outputs": [
    {
     "name": "stdout",
     "output_type": "stream",
     "text": [
      "There are 101 unique days data from 2022-05-16 00:00:00 to 2023-05-15 00:00:00\n"
     ]
    }
   ],
   "source": [
    "print(f\"There are {df.index.nunique()} unique days data from {df.index[0]} to {df.index[-1]}\")"
   ]
  },
  {
   "cell_type": "code",
   "execution_count": 11,
   "id": "b82d9c29",
   "metadata": {},
   "outputs": [],
   "source": [
    "qty_per_day = df.pivot_table(values='qty_total', index='salesdate', aggfunc='sum')\n",
    "qty_per_day.rename(columns={'qty_total':'sum of qty_total per day'},inplace=True)"
   ]
  },
  {
   "cell_type": "markdown",
   "id": "dcd63da7",
   "metadata": {},
   "source": [
    "## Overall Sales Performance"
   ]
  },
  {
   "cell_type": "code",
   "execution_count": 12,
   "id": "3ca0d98f",
   "metadata": {
    "scrolled": true
   },
   "outputs": [
    {
     "data": {
      "text/plain": [
       "<AxesSubplot:title={'center':'qty_total per day'}, xlabel='salesdate'>"
      ]
     },
     "execution_count": 12,
     "metadata": {},
     "output_type": "execute_result"
    },
    {
     "data": {
      "image/png": "[encoded data removed]",
      "text/plain": [
       "<Figure size 1080x360 with 1 Axes>"
      ]
     },
     "metadata": {
      "needs_background": "light"
     },
     "output_type": "display_data"
    }
   ],
   "source": [
    "qty_per_day.plot(style='-',\n",
    "                figsize=(15, 5),\n",
    "                color=color_pal[0],\n",
    "                title='qty_total per day',\n",
    "                grid=True,\n",
    "                legend=True)"
   ]
  },
  {
   "cell_type": "markdown",
   "id": "104fa5bb",
   "metadata": {},
   "source": [
    "- Based on the graph above, there is no pattern of data that represents seasonality. But there is a slightly positive trend"
   ]
  },
  {
   "cell_type": "code",
   "execution_count": 13,
   "id": "3ce88e38",
   "metadata": {},
   "outputs": [
    {
     "data": {
      "text/html": [
       "<div>\n",
       "<style scoped>\n",
       "    .dataframe tbody tr th:only-of-type {\n",
       "        vertical-align: middle;\n",
       "    }\n",
       "\n",
       "    .dataframe tbody tr th {\n",
       "        vertical-align: top;\n",
       "    }\n",
       "\n",
       "    .dataframe thead th {\n",
       "        text-align: right;\n",
       "    }\n",
       "</style>\n",
       "<table border=\"1\" class=\"dataframe\">\n",
       "  <thead>\n",
       "    <tr style=\"text-align: right;\">\n",
       "      <th></th>\n",
       "      <th>sum of qty_total per day</th>\n",
       "      <th>day</th>\n",
       "    </tr>\n",
       "    <tr>\n",
       "      <th>salesdate</th>\n",
       "      <th></th>\n",
       "      <th></th>\n",
       "    </tr>\n",
       "  </thead>\n",
       "  <tbody>\n",
       "    <tr>\n",
       "      <th>2022-05-16</th>\n",
       "      <td>53</td>\n",
       "      <td>0</td>\n",
       "    </tr>\n",
       "    <tr>\n",
       "      <th>2022-05-21</th>\n",
       "      <td>38</td>\n",
       "      <td>5</td>\n",
       "    </tr>\n",
       "    <tr>\n",
       "      <th>2022-05-22</th>\n",
       "      <td>40</td>\n",
       "      <td>6</td>\n",
       "    </tr>\n",
       "    <tr>\n",
       "      <th>2022-05-23</th>\n",
       "      <td>36</td>\n",
       "      <td>0</td>\n",
       "    </tr>\n",
       "    <tr>\n",
       "      <th>2022-05-24</th>\n",
       "      <td>55</td>\n",
       "      <td>1</td>\n",
       "    </tr>\n",
       "  </tbody>\n",
       "</table>\n",
       "</div>"
      ],
      "text/plain": [
       "            sum of qty_total per day  day\n",
       "salesdate                                \n",
       "2022-05-16                        53    0\n",
       "2022-05-21                        38    5\n",
       "2022-05-22                        40    6\n",
       "2022-05-23                        36    0\n",
       "2022-05-24                        55    1"
      ]
     },
     "execution_count": 13,
     "metadata": {},
     "output_type": "execute_result"
    }
   ],
   "source": [
    "qty_per_day[\"day\"] = qty_per_day.index.weekday\n",
    "qty_per_day.head()"
   ]
  },
  {
   "cell_type": "code",
   "execution_count": 14,
   "id": "1fdc5cb0",
   "metadata": {},
   "outputs": [
    {
     "data": {
      "text/html": [
       "<div>\n",
       "<style scoped>\n",
       "    .dataframe tbody tr th:only-of-type {\n",
       "        vertical-align: middle;\n",
       "    }\n",
       "\n",
       "    .dataframe tbody tr th {\n",
       "        vertical-align: top;\n",
       "    }\n",
       "\n",
       "    .dataframe thead th {\n",
       "        text-align: right;\n",
       "    }\n",
       "</style>\n",
       "<table border=\"1\" class=\"dataframe\">\n",
       "  <thead>\n",
       "    <tr style=\"text-align: right;\">\n",
       "      <th></th>\n",
       "      <th>sum of qty_total per day</th>\n",
       "      <th>day</th>\n",
       "    </tr>\n",
       "  </thead>\n",
       "  <tbody>\n",
       "    <tr>\n",
       "      <th>count</th>\n",
       "      <td>101.000000</td>\n",
       "      <td>101.000000</td>\n",
       "    </tr>\n",
       "    <tr>\n",
       "      <th>mean</th>\n",
       "      <td>99.782178</td>\n",
       "      <td>2.871287</td>\n",
       "    </tr>\n",
       "    <tr>\n",
       "      <th>std</th>\n",
       "      <td>61.766432</td>\n",
       "      <td>2.115010</td>\n",
       "    </tr>\n",
       "    <tr>\n",
       "      <th>min</th>\n",
       "      <td>10.000000</td>\n",
       "      <td>0.000000</td>\n",
       "    </tr>\n",
       "    <tr>\n",
       "      <th>25%</th>\n",
       "      <td>47.000000</td>\n",
       "      <td>1.000000</td>\n",
       "    </tr>\n",
       "    <tr>\n",
       "      <th>50%</th>\n",
       "      <td>88.000000</td>\n",
       "      <td>3.000000</td>\n",
       "    </tr>\n",
       "    <tr>\n",
       "      <th>75%</th>\n",
       "      <td>140.000000</td>\n",
       "      <td>5.000000</td>\n",
       "    </tr>\n",
       "    <tr>\n",
       "      <th>max</th>\n",
       "      <td>263.000000</td>\n",
       "      <td>6.000000</td>\n",
       "    </tr>\n",
       "  </tbody>\n",
       "</table>\n",
       "</div>"
      ],
      "text/plain": [
       "       sum of qty_total per day         day\n",
       "count                101.000000  101.000000\n",
       "mean                  99.782178    2.871287\n",
       "std                   61.766432    2.115010\n",
       "min                   10.000000    0.000000\n",
       "25%                   47.000000    1.000000\n",
       "50%                   88.000000    3.000000\n",
       "75%                  140.000000    5.000000\n",
       "max                  263.000000    6.000000"
      ]
     },
     "execution_count": 14,
     "metadata": {},
     "output_type": "execute_result"
    }
   ],
   "source": [
    "qty_per_day.describe()"
   ]
  },
  {
   "cell_type": "code",
   "execution_count": 15,
   "id": "59bcce4c",
   "metadata": {},
   "outputs": [
    {
     "data": {
      "image/png": "[encoded data removed]",
      "text/plain": [
       "<Figure size 504x360 with 1 Axes>"
      ]
     },
     "metadata": {
      "needs_background": "light"
     },
     "output_type": "display_data"
    }
   ],
   "source": [
    "plt.figure(figsize=(7, 5))\n",
    "sns.boxplot(x = 'day', y = 'sum of qty_total per day', data = qty_per_day)\n",
    "plt.xlabel('Day of the Week')\n",
    "plt.ylabel('Value')\n",
    "plt.title('qty_total every day')\n",
    "plt.xticks(range(7), ['Mon', 'Tue', 'Wed', 'Thu', 'Fri', 'Sat', 'Sun'])\n",
    "plt.show()"
   ]
  },
  {
   "cell_type": "markdown",
   "id": "dcf7a185",
   "metadata": {},
   "source": [
    "- The outliers for the average daily total sales are relatively small, indicating that the sales distribution for each day is quite uniform\n",
    "- The highest average total sales are found on Thursdays."
   ]
  },
  {
   "cell_type": "code",
   "execution_count": 16,
   "id": "e8223475",
   "metadata": {},
   "outputs": [],
   "source": [
    "qty_per_week = qty_per_day.resample(\"W\")[[\"sum of qty_total per day\"]].sum().copy()\n",
    "qty_per_week.rename(columns={\"sum of qty_total per day\":\"sum of qty_total per week\"},inplace = True)"
   ]
  },
  {
   "cell_type": "code",
   "execution_count": 17,
   "id": "6002e3b0",
   "metadata": {},
   "outputs": [],
   "source": [
    "qty_per_week[\"week\"] = (qty_per_week.index.day - 1) // 7 + 1"
   ]
  },
  {
   "cell_type": "code",
   "execution_count": 18,
   "id": "6f166daf",
   "metadata": {},
   "outputs": [
    {
     "data": {
      "image/png": "[encoded data removed]",
      "text/plain": [
       "<Figure size 504x360 with 1 Axes>"
      ]
     },
     "metadata": {
      "needs_background": "light"
     },
     "output_type": "display_data"
    }
   ],
   "source": [
    "plt.figure(figsize=(7, 5))\n",
    "sns.boxplot(x = 'week', y = 'sum of qty_total per week', data = qty_per_week)\n",
    "plt.xlabel('Week')\n",
    "plt.ylabel('Value')\n",
    "plt.title('qty_total every week')\n",
    "plt.show()"
   ]
  },
  {
   "cell_type": "markdown",
   "id": "febbaf01",
   "metadata": {},
   "source": [
    "- The outliers for the average weekly total sales are small enough, indicating that the sales distribution for each week is relatively uniform.\n",
    "- The highest average total sales are found in the second week."
   ]
  },
  {
   "cell_type": "markdown",
   "id": "ccb6b855",
   "metadata": {},
   "source": [
    "## Promo Analysis"
   ]
  },
  {
   "cell_type": "code",
   "execution_count": 26,
   "id": "060dda35",
   "metadata": {},
   "outputs": [],
   "source": [
    "df_promo = df[[\"menuname\",\"menu_group\",\"qty_total\"]].copy()"
   ]
  },
  {
   "cell_type": "code",
   "execution_count": 27,
   "id": "3c887aa0",
   "metadata": {},
   "outputs": [
    {
     "name": "stderr",
     "output_type": "stream",
     "text": [
      "C:\\Users\\Wilson\\AppData\\Local\\Temp/ipykernel_31672/1124866361.py:3: UserWarning: This pattern has match groups. To actually get the groups, use str.extract.\n",
      "  df_promo['FS'] = df_promo['menuname'].str.contains(patternFS)\n",
      "C:\\Users\\Wilson\\AppData\\Local\\Temp/ipykernel_31672/1124866361.py:6: UserWarning: This pattern has match groups. To actually get the groups, use str.extract.\n",
      "  df_promo['B1G1'] = df_promo['menuname'].str.contains(patternB1G1)\n"
     ]
    }
   ],
   "source": [
    "#get FS and B1G1 code from menuname using regex \n",
    "patternFS = r'^((\\[).+(\\])).*'\n",
    "df_promo['FS'] = df_promo['menuname'].str.contains(patternFS)\n",
    "\n",
    "patternB1G1 = r'(B1G1)'\n",
    "df_promo['B1G1'] = df_promo['menuname'].str.contains(patternB1G1)"
   ]
  },
  {
   "cell_type": "code",
   "execution_count": 28,
   "id": "ea74d665",
   "metadata": {},
   "outputs": [
    {
     "data": {
      "text/html": [
       "<div>\n",
       "<style scoped>\n",
       "    .dataframe tbody tr th:only-of-type {\n",
       "        vertical-align: middle;\n",
       "    }\n",
       "\n",
       "    .dataframe tbody tr th {\n",
       "        vertical-align: top;\n",
       "    }\n",
       "\n",
       "    .dataframe thead th {\n",
       "        text-align: right;\n",
       "    }\n",
       "</style>\n",
       "<table border=\"1\" class=\"dataframe\">\n",
       "  <thead>\n",
       "    <tr style=\"text-align: right;\">\n",
       "      <th></th>\n",
       "      <th>B1G1_total</th>\n",
       "      <th>FS_total</th>\n",
       "      <th>qty_total</th>\n",
       "    </tr>\n",
       "    <tr>\n",
       "      <th>salesdate</th>\n",
       "      <th></th>\n",
       "      <th></th>\n",
       "      <th></th>\n",
       "    </tr>\n",
       "  </thead>\n",
       "  <tbody>\n",
       "    <tr>\n",
       "      <th>2022-05-16</th>\n",
       "      <td>0</td>\n",
       "      <td>0</td>\n",
       "      <td>53</td>\n",
       "    </tr>\n",
       "    <tr>\n",
       "      <th>2022-05-21</th>\n",
       "      <td>0</td>\n",
       "      <td>0</td>\n",
       "      <td>38</td>\n",
       "    </tr>\n",
       "    <tr>\n",
       "      <th>2022-05-22</th>\n",
       "      <td>0</td>\n",
       "      <td>0</td>\n",
       "      <td>40</td>\n",
       "    </tr>\n",
       "  </tbody>\n",
       "</table>\n",
       "</div>"
      ],
      "text/plain": [
       "            B1G1_total  FS_total  qty_total\n",
       "salesdate                                  \n",
       "2022-05-16           0         0         53\n",
       "2022-05-21           0         0         38\n",
       "2022-05-22           0         0         40"
      ]
     },
     "execution_count": 28,
     "metadata": {},
     "output_type": "execute_result"
    }
   ],
   "source": [
    "df_promo  = df_promo.pivot_table(values=[\"qty_total\",\"FS\",\"B1G1\"], index='salesdate', aggfunc='sum')\n",
    "df_promo.rename(columns = {\"FS\":\"FS_total\",\"B1G1\":\"B1G1_total\"},inplace=True)\n",
    "df_promo.head(3) # data frame that represent total flash sale and buy 1 get 1 tags that are used each day"
   ]
  },
  {
   "cell_type": "code",
   "execution_count": 29,
   "id": "16304e81",
   "metadata": {},
   "outputs": [
    {
     "data": {
      "image/png": "[encoded data removed]",
      "text/plain": [
       "<Figure size 864x216 with 1 Axes>"
      ]
     },
     "metadata": {
      "needs_background": "light"
     },
     "output_type": "display_data"
    }
   ],
   "source": [
    "plt.figure(figsize=(12, 3))\n",
    "plt.plot(df_promo.index, df_promo['FS_total'])\n",
    "plt.xlabel('date')\n",
    "plt.ylabel('FS_total')\n",
    "plt.title('Weekly Pattern of FS_total')\n",
    "plt.grid(True)\n",
    "plt.show()"
   ]
  },
  {
   "cell_type": "code",
   "execution_count": 31,
   "id": "bcf60ec0",
   "metadata": {},
   "outputs": [
    {
     "data": {
      "image/png": "[encoded data removed]",
      "text/plain": [
       "<Figure size 864x216 with 1 Axes>"
      ]
     },
     "metadata": {
      "needs_background": "light"
     },
     "output_type": "display_data"
    }
   ],
   "source": [
    "plt.figure(figsize=(12, 3))\n",
    "plt.plot(df_promo.index, df_promo['B1G1_total'])\n",
    "plt.xlabel('Date')\n",
    "plt.ylabel('B1G1_total')\n",
    "plt.title('Weekly Pattern of B1G1')\n",
    "plt.grid(True)\n",
    "plt.show()"
   ]
  },
  {
   "cell_type": "markdown",
   "id": "db9b1c81",
   "metadata": {},
   "source": [
    "- B1G1 occur after 2023-01"
   ]
  },
  {
   "cell_type": "code",
   "execution_count": 33,
   "id": "de60ce31",
   "metadata": {
    "scrolled": false
   },
   "outputs": [
    {
     "data": {
      "image/png": "[encoded data removed]",
      "text/plain": [
       "<Figure size 504x504 with 2 Axes>"
      ]
     },
     "metadata": {
      "needs_background": "light"
     },
     "output_type": "display_data"
    }
   ],
   "source": [
    "corr_matrix = df_promo.corr()\n",
    "\n",
    "plt.figure(figsize=(7, 7))\n",
    "sns.heatmap(corr_matrix, annot=True, cmap='coolwarm')\n",
    "plt.title('Correlation Heatmap')\n",
    "plt.show()"
   ]
  },
  {
   "cell_type": "markdown",
   "id": "c4561d5d",
   "metadata": {},
   "source": [
    "- There is a positive correlation between qty_total and FS_total and B1G1, indicating that qty_total is influenced by FS and B1G1."
   ]
  },
  {
   "cell_type": "markdown",
   "id": "92bb69f3",
   "metadata": {},
   "source": [
    "# Modelling for demand forecasting model of specific menu_group"
   ]
  },
  {
   "cell_type": "markdown",
   "id": "98ef59e0",
   "metadata": {},
   "source": [
    "## XGBoost\n",
    "\n",
    "XGBoost is used because its effectiveness in handling time series forecasting problem"
   ]
  },
  {
   "cell_type": "markdown",
   "id": "7f27bc5b",
   "metadata": {},
   "source": [
    "### Preprocessing"
   ]
  },
  {
   "cell_type": "code",
   "execution_count": 40,
   "id": "599b6be2",
   "metadata": {},
   "outputs": [],
   "source": [
    "def preprocess_feature(df,menu_group):\n",
    "    df = df[df.menu_group == menu_group].copy()\n",
    "    \n",
    "    patternFS = r'^((\\[).+(\\])).*'\n",
    "    df['FS'] = df['menuname'].str.contains(patternFS)\n",
    "    patternB1G1 = r'(B1G1)'\n",
    "    df['B1G1'] = df['menuname'].str.contains(patternB1G1)\n",
    "    \n",
    "    df.drop(columns=['menuid','menuname','menu_group'],axis = 1,inplace=True)\n",
    "    \n",
    "    df_weekly = df.resample(\"W\").sum()\n",
    "    \n",
    "    # split X and y\n",
    "    y = df_weekly['qty_total'].copy()\n",
    "    X = df_weekly.copy()\n",
    "    return X, y"
   ]
  },
  {
   "cell_type": "code",
   "execution_count": 538,
   "id": "c8f8f759",
   "metadata": {},
   "outputs": [
    {
     "name": "stdout",
     "output_type": "stream",
     "text": [
      "trainX: (21, 3) | trainY: (21,)\n",
      "testX : (9, 3) | testY : (9,)\n"
     ]
    },
    {
     "name": "stderr",
     "output_type": "stream",
     "text": [
      "C:\\Users\\Wilson\\AppData\\Local\\Temp/ipykernel_31672/2434069213.py:5: UserWarning: This pattern has match groups. To actually get the groups, use str.extract.\n",
      "  df['FS'] = df['menuname'].str.contains(patternFS)\n",
      "C:\\Users\\Wilson\\AppData\\Local\\Temp/ipykernel_31672/2434069213.py:7: UserWarning: This pattern has match groups. To actually get the groups, use str.extract.\n",
      "  df['B1G1'] = df['menuname'].str.contains(patternB1G1)\n"
     ]
    }
   ],
   "source": [
    "\"\"\"\n",
    "splitting data: 70% train 30% test for dataset of menu_group = Gyudon Aburi with Miso Mayo & Sambal Korek\n",
    "\"\"\"\n",
    "X,y = preprocess_feature(df,\"Gyudon Aburi with Miso Mayo & Sambal Korek\")\n",
    "\n",
    "trainX, testX,trainY, testY = train_test_split(X,y,test_size=0.3,shuffle=False)\n",
    "print(f\"trainX: {trainX.shape} | trainY: {trainY.shape}\")\n",
    "print(f\"testX : {testX.shape} | testY : {testY.shape}\")"
   ]
  },
  {
   "cell_type": "code",
   "execution_count": 525,
   "id": "0031ad3a",
   "metadata": {},
   "outputs": [
    {
     "data": {
      "text/html": [
       "<div>\n",
       "<style scoped>\n",
       "    .dataframe tbody tr th:only-of-type {\n",
       "        vertical-align: middle;\n",
       "    }\n",
       "\n",
       "    .dataframe tbody tr th {\n",
       "        vertical-align: top;\n",
       "    }\n",
       "\n",
       "    .dataframe thead th {\n",
       "        text-align: right;\n",
       "    }\n",
       "</style>\n",
       "<table border=\"1\" class=\"dataframe\">\n",
       "  <thead>\n",
       "    <tr style=\"text-align: right;\">\n",
       "      <th></th>\n",
       "      <th>qty_total</th>\n",
       "      <th>FS</th>\n",
       "      <th>B1G1</th>\n",
       "    </tr>\n",
       "    <tr>\n",
       "      <th>salesdate</th>\n",
       "      <th></th>\n",
       "      <th></th>\n",
       "      <th></th>\n",
       "    </tr>\n",
       "  </thead>\n",
       "  <tbody>\n",
       "    <tr>\n",
       "      <th>2022-10-16</th>\n",
       "      <td>1</td>\n",
       "      <td>0</td>\n",
       "      <td>0</td>\n",
       "    </tr>\n",
       "    <tr>\n",
       "      <th>2022-10-23</th>\n",
       "      <td>7</td>\n",
       "      <td>0</td>\n",
       "      <td>0</td>\n",
       "    </tr>\n",
       "    <tr>\n",
       "      <th>2022-10-30</th>\n",
       "      <td>0</td>\n",
       "      <td>0</td>\n",
       "      <td>0</td>\n",
       "    </tr>\n",
       "    <tr>\n",
       "      <th>2022-11-06</th>\n",
       "      <td>1</td>\n",
       "      <td>1</td>\n",
       "      <td>0</td>\n",
       "    </tr>\n",
       "    <tr>\n",
       "      <th>2022-11-13</th>\n",
       "      <td>9</td>\n",
       "      <td>0</td>\n",
       "      <td>0</td>\n",
       "    </tr>\n",
       "  </tbody>\n",
       "</table>\n",
       "</div>"
      ],
      "text/plain": [
       "            qty_total  FS  B1G1\n",
       "salesdate                      \n",
       "2022-10-16          1   0     0\n",
       "2022-10-23          7   0     0\n",
       "2022-10-30          0   0     0\n",
       "2022-11-06          1   1     0\n",
       "2022-11-13          9   0     0"
      ]
     },
     "execution_count": 525,
     "metadata": {},
     "output_type": "execute_result"
    }
   ],
   "source": [
    "trainX.head()"
   ]
  },
  {
   "cell_type": "code",
   "execution_count": 527,
   "id": "a9176b3f",
   "metadata": {},
   "outputs": [
    {
     "data": {
      "text/plain": [
       "salesdate\n",
       "2022-10-16    1\n",
       "2022-10-23    7\n",
       "2022-10-30    0\n",
       "2022-11-06    1\n",
       "2022-11-13    9\n",
       "Freq: W-SUN, Name: qty_total, dtype: int64"
      ]
     },
     "execution_count": 527,
     "metadata": {},
     "output_type": "execute_result"
    }
   ],
   "source": [
    "trainY.head()"
   ]
  },
  {
   "cell_type": "code",
   "execution_count": 539,
   "id": "bc9d038f",
   "metadata": {},
   "outputs": [],
   "source": [
    "scaler = MinMaxScaler()\n",
    "\n",
    "trainX_scaled = scaler.fit_transform(trainX)\n",
    "testX_scaled = scaler.transform(testX)"
   ]
  },
  {
   "cell_type": "markdown",
   "id": "d39686e8",
   "metadata": {},
   "source": [
    "### Training"
   ]
  },
  {
   "cell_type": "code",
   "execution_count": 540,
   "id": "316e3e69",
   "metadata": {},
   "outputs": [],
   "source": [
    "def training_model(X,y,params={}):\n",
    "    dTrain = xgb.DMatrix(data=X, label=y)    \n",
    "    model = xgb.train(params, dTrain)\n",
    "    \n",
    "    return model"
   ]
  },
  {
   "cell_type": "code",
   "execution_count": 541,
   "id": "e2a6c20a",
   "metadata": {},
   "outputs": [],
   "source": [
    "def evaluation_model(model,trainY,testY,testX,verbose=False):\n",
    "    dTest = xgb.DMatrix(data=testX)\n",
    "    yPred = model.predict(dTest)\n",
    "    mae = mean_absolute_error(testY, yPred)\n",
    "\n",
    "    df_eval = testY.to_frame()\n",
    "\n",
    "    df_eval['qty_total_pred'] = y_pred[1:]\n",
    "    \n",
    "    if(verbose):   \n",
    "        print(f\"MAE {mae}\", end=\"\\n\")\n",
    "        print(df_eval)\n",
    "\n",
    "        plt.figure(figsize=(10, 5))\n",
    "        plt.plot(trainY, color='blue', label = 'qty_total_Train')\n",
    "        plt.title(\"Graph qty_total actual vs xgboost prediction\")\n",
    "        plt.xlabel(\"date\")\n",
    "        plt.ylabel(\"qty_total\")\n",
    "        plt.plot(df_eval['qty_total'], color='orange', label = 'qty_total_Test')\n",
    "        plt.plot(df_eval['qty_total_pred'], color='green', label = 'qty_total_pred')\n",
    "        plt.legend()\n",
    "    return df_eval,mae"
   ]
  },
  {
   "cell_type": "code",
   "execution_count": 542,
   "id": "5d3defe2",
   "metadata": {},
   "outputs": [
    {
     "name": "stdout",
     "output_type": "stream",
     "text": [
      "MAE 0.11134870927586842\n",
      "            qty_total  qty_total_pred\n",
      "salesdate                            \n",
      "2023-03-12          5        5.000414\n",
      "2023-03-19          1        1.000091\n",
      "2023-03-26          2        1.999984\n",
      "2023-04-02          0        0.000301\n",
      "2023-04-09          2        1.999984\n",
      "2023-04-16          1        1.000091\n",
      "2023-04-23          2        1.999984\n",
      "2023-04-30          0        0.000301\n",
      "2023-05-07          6        6.999685\n"
     ]
    },
    {
     "data": {
      "image/png": "[encoded data removed]",
      "text/plain": [
       "<Figure size 720x360 with 1 Axes>"
      ]
     },
     "metadata": {
      "needs_background": "light"
     },
     "output_type": "display_data"
    }
   ],
   "source": [
    "#only lr rate and max_depth\n",
    "params = {\n",
    "    'max_depth': 9,\n",
    "    'learning_rate': 1.68,\n",
    "}\n",
    "model = training_model(trainX_scaled, trainY, params)\n",
    "df_eval,mae = evaluation_model(model,trainY,testY,testX_scaled,True)"
   ]
  },
  {
   "cell_type": "markdown",
   "id": "ce4d6330",
   "metadata": {},
   "source": [
    "- the error rate is small so the model good to be deployed\n",
    "- learning rate and max_depth were chosen because these hyperparameters influence a lot to the minimum error than any hyperparameter (e.g: gamma,min_child_weight) based on trial shown below,\n",
    "- Only lr rate, max dept; MAE : 0.11\n",
    "- lr rate, max depth, gamma, min_child_weight; MAE: 0.11\n"
   ]
  },
  {
   "cell_type": "code",
   "execution_count": 534,
   "id": "08a5c777",
   "metadata": {},
   "outputs": [
    {
     "data": {
      "text/plain": [
       "(            qty_total  qty_total_pred\n",
       " salesdate                            \n",
       " 2023-03-12          5        5.000414\n",
       " 2023-03-19          1        1.000091\n",
       " 2023-03-26          2        1.999984\n",
       " 2023-04-02          0        0.000301\n",
       " 2023-04-09          2        1.999984\n",
       " 2023-04-16          1        1.000091\n",
       " 2023-04-23          2        1.999984\n",
       " 2023-04-30          0        0.000301\n",
       " 2023-05-07          6        6.999685,\n",
       " 0.11174116821752654)"
      ]
     },
     "execution_count": 534,
     "metadata": {},
     "output_type": "execute_result"
    }
   ],
   "source": [
    "params = {\n",
    "    'max_depth': 9,\n",
    "    'learning_rate': 1.68,\n",
    "    'gamma':0.00001,\n",
    "    \"min_child_weight\":0\n",
    "}\n",
    "\n",
    "model = training_model(trainX_scaled, trainY, params)\n",
    "evaluation_model(model,trainY,testY,testX_scaled)"
   ]
  },
  {
   "cell_type": "markdown",
   "id": "c003fbd7",
   "metadata": {},
   "source": [
    "### Tuning"
   ]
  },
  {
   "cell_type": "code",
   "execution_count": 535,
   "id": "c785b86f",
   "metadata": {},
   "outputs": [],
   "source": [
    "def black_box_XGBoost(learning_rate, max_depth):\n",
    "    # input params\n",
    "    params = {\n",
    "        'objective': 'reg:squarederror',\n",
    "        'learning_rate':learning_rate,\n",
    "        'max_depth': int(max_depth),\n",
    "    }\n",
    "\n",
    "    # train\n",
    "    dTrain = xgb.DMatrix(data=trainX_scaled, label=trainY) \n",
    "    dTest = xgb.DMatrix(data=testX_scaled)\n",
    "    model = xgb.train(params, dTrain)\n",
    "\n",
    "    # predict\n",
    "    yPred = model.predict(dTest)\n",
    "\n",
    "    # evaluate\n",
    "    mae = mean_absolute_error(testY, yPred)\n",
    "\n",
    "    return -mae"
   ]
  },
  {
   "cell_type": "code",
   "execution_count": 536,
   "id": "0bc87c24",
   "metadata": {},
   "outputs": [],
   "source": [
    "param_bounds = {\n",
    "    'learning_rate': (0.01, 2),\n",
    "    'max_depth': (3, 10),\n",
    "}\n",
    "\n",
    "optimizer = BayesianOptimization(\n",
    "    f=black_box_XGBoost,\n",
    "    pbounds=param_bounds,\n",
    "    random_state=1,\n",
    ")"
   ]
  },
  {
   "cell_type": "code",
   "execution_count": 520,
   "id": "10455a59",
   "metadata": {},
   "outputs": [
    {
     "name": "stdout",
     "output_type": "stream",
     "text": [
      "|   iter    |  target   | learni... | max_depth |\n",
      "-------------------------------------------------\n",
      "| \u001b[0m1        \u001b[0m | \u001b[0m-0.1124  \u001b[0m | \u001b[0m0.8399   \u001b[0m | \u001b[0m8.042    \u001b[0m |\n",
      "| \u001b[0m2        \u001b[0m | \u001b[0m-1.689   \u001b[0m | \u001b[0m0.01023  \u001b[0m | \u001b[0m5.116    \u001b[0m |\n",
      "| \u001b[0m3        \u001b[0m | \u001b[0m-0.1545  \u001b[0m | \u001b[0m0.302    \u001b[0m | \u001b[0m3.646    \u001b[0m |\n",
      "| \u001b[0m4        \u001b[0m | \u001b[0m-0.1767  \u001b[0m | \u001b[0m0.2265   \u001b[0m | \u001b[0m5.582    \u001b[0m |\n",
      "| \u001b[95m5        \u001b[0m | \u001b[95m-0.1113  \u001b[0m | \u001b[95m1.662    \u001b[0m | \u001b[95m7.621    \u001b[0m |\n",
      "| \u001b[0m6        \u001b[0m | \u001b[0m-0.1418  \u001b[0m | \u001b[0m0.3071   \u001b[0m | \u001b[0m7.402    \u001b[0m |\n",
      "| \u001b[0m7        \u001b[0m | \u001b[0m-0.2302  \u001b[0m | \u001b[0m0.1813   \u001b[0m | \u001b[0m8.311    \u001b[0m |\n",
      "| \u001b[0m8        \u001b[0m | \u001b[0m-0.1351  \u001b[0m | \u001b[0m0.7973   \u001b[0m | \u001b[0m4.13     \u001b[0m |\n",
      "| \u001b[0m9        \u001b[0m | \u001b[0m-0.1117  \u001b[0m | \u001b[0m1.777    \u001b[0m | \u001b[0m6.13     \u001b[0m |\n",
      "| \u001b[0m10       \u001b[0m | \u001b[0m-0.1123  \u001b[0m | \u001b[0m0.8703   \u001b[0m | \u001b[0m5.464    \u001b[0m |\n",
      "| \u001b[0m11       \u001b[0m | \u001b[0m-0.1116  \u001b[0m | \u001b[0m1.224    \u001b[0m | \u001b[0m5.75     \u001b[0m |\n",
      "| \u001b[0m12       \u001b[0m | \u001b[0m-0.1129  \u001b[0m | \u001b[0m1.118    \u001b[0m | \u001b[0m5.665    \u001b[0m |\n",
      "| \u001b[0m13       \u001b[0m | \u001b[0m-0.1421  \u001b[0m | \u001b[0m0.3054   \u001b[0m | \u001b[0m5.847    \u001b[0m |\n",
      "| \u001b[0m14       \u001b[0m | \u001b[0m-0.4083  \u001b[0m | \u001b[0m0.1429   \u001b[0m | \u001b[0m6.74     \u001b[0m |\n",
      "| \u001b[0m15       \u001b[0m | \u001b[0m-0.1308  \u001b[0m | \u001b[0m0.685    \u001b[0m | \u001b[0m4.924    \u001b[0m |\n",
      "| \u001b[0m16       \u001b[0m | \u001b[0m-0.1115  \u001b[0m | \u001b[0m1.795    \u001b[0m | \u001b[0m6.114    \u001b[0m |\n",
      "| \u001b[0m17       \u001b[0m | \u001b[0m-0.1446  \u001b[0m | \u001b[0m0.3175   \u001b[0m | \u001b[0m5.848    \u001b[0m |\n",
      "| \u001b[0m18       \u001b[0m | \u001b[0m-0.1123  \u001b[0m | \u001b[0m1.254    \u001b[0m | \u001b[0m4.854    \u001b[0m |\n",
      "| \u001b[0m19       \u001b[0m | \u001b[0m-0.1126  \u001b[0m | \u001b[0m1.038    \u001b[0m | \u001b[0m7.375    \u001b[0m |\n",
      "| \u001b[0m20       \u001b[0m | \u001b[0m-0.1113  \u001b[0m | \u001b[0m1.665    \u001b[0m | \u001b[0m6.935    \u001b[0m |\n",
      "| \u001b[0m21       \u001b[0m | \u001b[0m-0.1115  \u001b[0m | \u001b[0m1.823    \u001b[0m | \u001b[0m5.321    \u001b[0m |\n",
      "| \u001b[95m22       \u001b[0m | \u001b[95m-0.1113  \u001b[0m | \u001b[95m1.5      \u001b[0m | \u001b[95m8.335    \u001b[0m |\n",
      "| \u001b[0m23       \u001b[0m | \u001b[0m-0.1122  \u001b[0m | \u001b[0m1.001    \u001b[0m | \u001b[0m8.831    \u001b[0m |\n",
      "| \u001b[95m24       \u001b[0m | \u001b[95m-0.1112  \u001b[0m | \u001b[95m1.687    \u001b[0m | \u001b[95m9.049    \u001b[0m |\n",
      "| \u001b[0m25       \u001b[0m | \u001b[0m-0.1115  \u001b[0m | \u001b[0m1.167    \u001b[0m | \u001b[0m9.543    \u001b[0m |\n",
      "| \u001b[0m26       \u001b[0m | \u001b[0m-0.1117  \u001b[0m | \u001b[0m1.851    \u001b[0m | \u001b[0m9.76     \u001b[0m |\n",
      "| \u001b[0m27       \u001b[0m | \u001b[0m-0.1123  \u001b[0m | \u001b[0m0.9283   \u001b[0m | \u001b[0m6.416    \u001b[0m |\n",
      "| \u001b[0m28       \u001b[0m | \u001b[0m-0.1129  \u001b[0m | \u001b[0m0.4776   \u001b[0m | \u001b[0m9.375    \u001b[0m |\n",
      "| \u001b[0m29       \u001b[0m | \u001b[0m-0.1151  \u001b[0m | \u001b[0m0.6021   \u001b[0m | \u001b[0m9.994    \u001b[0m |\n",
      "| \u001b[0m30       \u001b[0m | \u001b[0m-0.1136  \u001b[0m | \u001b[0m1.984    \u001b[0m | \u001b[0m4.614    \u001b[0m |\n",
      "| \u001b[0m31       \u001b[0m | \u001b[0m-0.1116  \u001b[0m | \u001b[0m1.526    \u001b[0m | \u001b[0m4.102    \u001b[0m |\n",
      "| \u001b[0m32       \u001b[0m | \u001b[0m-0.1204  \u001b[0m | \u001b[0m1.19     \u001b[0m | \u001b[0m3.464    \u001b[0m |\n",
      "| \u001b[0m33       \u001b[0m | \u001b[0m-0.1301  \u001b[0m | \u001b[0m1.935    \u001b[0m | \u001b[0m3.539    \u001b[0m |\n",
      "| \u001b[0m34       \u001b[0m | \u001b[0m-1.693   \u001b[0m | \u001b[0m0.01     \u001b[0m | \u001b[0m9.832    \u001b[0m |\n",
      "| \u001b[0m35       \u001b[0m | \u001b[0m-0.1116  \u001b[0m | \u001b[0m1.071    \u001b[0m | \u001b[0m9.995    \u001b[0m |\n",
      "| \u001b[0m36       \u001b[0m | \u001b[0m-0.192   \u001b[0m | \u001b[0m0.6519   \u001b[0m | \u001b[0m3.0      \u001b[0m |\n",
      "| \u001b[0m37       \u001b[0m | \u001b[0m-0.1117  \u001b[0m | \u001b[0m1.792    \u001b[0m | \u001b[0m6.293    \u001b[0m |\n",
      "| \u001b[0m38       \u001b[0m | \u001b[0m-0.1165  \u001b[0m | \u001b[0m1.629    \u001b[0m | \u001b[0m3.0      \u001b[0m |\n",
      "| \u001b[0m39       \u001b[0m | \u001b[0m-1.02    \u001b[0m | \u001b[0m0.06553  \u001b[0m | \u001b[0m3.967    \u001b[0m |\n",
      "| \u001b[0m40       \u001b[0m | \u001b[0m-1.693   \u001b[0m | \u001b[0m0.01     \u001b[0m | \u001b[0m3.053    \u001b[0m |\n",
      "| \u001b[0m41       \u001b[0m | \u001b[0m-0.1118  \u001b[0m | \u001b[0m1.766    \u001b[0m | \u001b[0m8.882    \u001b[0m |\n",
      "| \u001b[0m42       \u001b[0m | \u001b[0m-0.2121  \u001b[0m | \u001b[0m0.7181   \u001b[0m | \u001b[0m3.582    \u001b[0m |\n",
      "| \u001b[0m43       \u001b[0m | \u001b[0m-0.4681  \u001b[0m | \u001b[0m0.1346   \u001b[0m | \u001b[0m6.692    \u001b[0m |\n",
      "| \u001b[0m44       \u001b[0m | \u001b[0m-0.1138  \u001b[0m | \u001b[0m2.0      \u001b[0m | \u001b[0m8.127    \u001b[0m |\n",
      "| \u001b[0m45       \u001b[0m | \u001b[0m-0.1116  \u001b[0m | \u001b[0m1.457    \u001b[0m | \u001b[0m4.69     \u001b[0m |\n",
      "| \u001b[0m46       \u001b[0m | \u001b[0m-0.1114  \u001b[0m | \u001b[0m1.505    \u001b[0m | \u001b[0m9.011    \u001b[0m |\n",
      "| \u001b[0m47       \u001b[0m | \u001b[0m-0.1205  \u001b[0m | \u001b[0m0.4421   \u001b[0m | \u001b[0m8.862    \u001b[0m |\n",
      "| \u001b[0m48       \u001b[0m | \u001b[0m-0.114   \u001b[0m | \u001b[0m0.7561   \u001b[0m | \u001b[0m6.941    \u001b[0m |\n",
      "| \u001b[0m49       \u001b[0m | \u001b[0m-0.1538  \u001b[0m | \u001b[0m1.08     \u001b[0m | \u001b[0m3.009    \u001b[0m |\n",
      "| \u001b[0m50       \u001b[0m | \u001b[0m-0.1138  \u001b[0m | \u001b[0m1.999    \u001b[0m | \u001b[0m7.362    \u001b[0m |\n",
      "| \u001b[0m51       \u001b[0m | \u001b[0m-0.114   \u001b[0m | \u001b[0m2.0      \u001b[0m | \u001b[0m4.076    \u001b[0m |\n",
      "| \u001b[0m52       \u001b[0m | \u001b[0m-0.1114  \u001b[0m | \u001b[0m1.255    \u001b[0m | \u001b[0m6.733    \u001b[0m |\n",
      "| \u001b[0m53       \u001b[0m | \u001b[0m-0.1352  \u001b[0m | \u001b[0m0.7978   \u001b[0m | \u001b[0m4.133    \u001b[0m |\n",
      "| \u001b[0m54       \u001b[0m | \u001b[0m-0.1149  \u001b[0m | \u001b[0m1.129    \u001b[0m | \u001b[0m5.296    \u001b[0m |\n",
      "| \u001b[0m55       \u001b[0m | \u001b[0m-0.1113  \u001b[0m | \u001b[0m1.555    \u001b[0m | \u001b[0m4.374    \u001b[0m |\n",
      "| \u001b[0m56       \u001b[0m | \u001b[0m-0.1128  \u001b[0m | \u001b[0m0.8106   \u001b[0m | \u001b[0m9.259    \u001b[0m |\n",
      "| \u001b[0m57       \u001b[0m | \u001b[0m-1.678   \u001b[0m | \u001b[0m0.0111   \u001b[0m | \u001b[0m7.813    \u001b[0m |\n",
      "| \u001b[0m58       \u001b[0m | \u001b[0m-1.693   \u001b[0m | \u001b[0m0.01     \u001b[0m | \u001b[0m8.752    \u001b[0m |\n",
      "| \u001b[0m59       \u001b[0m | \u001b[0m-0.1193  \u001b[0m | \u001b[0m0.5848   \u001b[0m | \u001b[0m9.651    \u001b[0m |\n",
      "| \u001b[0m60       \u001b[0m | \u001b[0m-0.115   \u001b[0m | \u001b[0m0.6391   \u001b[0m | \u001b[0m8.48     \u001b[0m |\n",
      "| \u001b[0m61       \u001b[0m | \u001b[0m-0.1115  \u001b[0m | \u001b[0m1.241    \u001b[0m | \u001b[0m7.881    \u001b[0m |\n",
      "| \u001b[0m62       \u001b[0m | \u001b[0m-0.1421  \u001b[0m | \u001b[0m0.3054   \u001b[0m | \u001b[0m7.402    \u001b[0m |\n",
      "| \u001b[0m63       \u001b[0m | \u001b[0m-0.1142  \u001b[0m | \u001b[0m2.0      \u001b[0m | \u001b[0m3.0      \u001b[0m |\n",
      "| \u001b[0m64       \u001b[0m | \u001b[0m-0.1138  \u001b[0m | \u001b[0m2.0      \u001b[0m | \u001b[0m9.355    \u001b[0m |\n",
      "| \u001b[0m65       \u001b[0m | \u001b[0m-0.1138  \u001b[0m | \u001b[0m1.998    \u001b[0m | \u001b[0m6.772    \u001b[0m |\n",
      "| \u001b[0m66       \u001b[0m | \u001b[0m-0.1114  \u001b[0m | \u001b[0m1.502    \u001b[0m | \u001b[0m9.986    \u001b[0m |\n",
      "| \u001b[0m67       \u001b[0m | \u001b[0m-0.1134  \u001b[0m | \u001b[0m1.985    \u001b[0m | \u001b[0m5.673    \u001b[0m |\n",
      "| \u001b[0m68       \u001b[0m | \u001b[0m-0.1114  \u001b[0m | \u001b[0m1.289    \u001b[0m | \u001b[0m6.25     \u001b[0m |\n",
      "| \u001b[0m69       \u001b[0m | \u001b[0m-0.1136  \u001b[0m | \u001b[0m1.994    \u001b[0m | \u001b[0m8.512    \u001b[0m |\n",
      "| \u001b[0m70       \u001b[0m | \u001b[0m-0.1283  \u001b[0m | \u001b[0m1.002    \u001b[0m | \u001b[0m4.568    \u001b[0m |\n",
      "| \u001b[0m71       \u001b[0m | \u001b[0m-0.1169  \u001b[0m | \u001b[0m1.548    \u001b[0m | \u001b[0m3.639    \u001b[0m |\n",
      "| \u001b[0m72       \u001b[0m | \u001b[0m-0.1116  \u001b[0m | \u001b[0m1.42     \u001b[0m | \u001b[0m7.263    \u001b[0m |\n",
      "| \u001b[0m73       \u001b[0m | \u001b[0m-0.1334  \u001b[0m | \u001b[0m1.153    \u001b[0m | \u001b[0m3.95     \u001b[0m |\n",
      "| \u001b[0m74       \u001b[0m | \u001b[0m-0.1138  \u001b[0m | \u001b[0m2.0      \u001b[0m | \u001b[0m5.027    \u001b[0m |\n",
      "| \u001b[0m75       \u001b[0m | \u001b[0m-0.1115  \u001b[0m | \u001b[0m1.563    \u001b[0m | \u001b[0m9.475    \u001b[0m |\n",
      "| \u001b[0m76       \u001b[0m | \u001b[0m-0.1128  \u001b[0m | \u001b[0m0.837    \u001b[0m | \u001b[0m6.01     \u001b[0m |\n",
      "| \u001b[0m77       \u001b[0m | \u001b[0m-0.1138  \u001b[0m | \u001b[0m2.0      \u001b[0m | \u001b[0m10.0     \u001b[0m |\n",
      "| \u001b[0m78       \u001b[0m | \u001b[0m-0.1114  \u001b[0m | \u001b[0m1.101    \u001b[0m | \u001b[0m8.382    \u001b[0m |\n",
      "| \u001b[0m79       \u001b[0m | \u001b[0m-0.1518  \u001b[0m | \u001b[0m0.3335   \u001b[0m | \u001b[0m7.107    \u001b[0m |\n",
      "| \u001b[0m80       \u001b[0m | \u001b[0m-0.1113  \u001b[0m | \u001b[0m1.588    \u001b[0m | \u001b[0m5.63     \u001b[0m |\n",
      "| \u001b[0m81       \u001b[0m | \u001b[0m-0.1138  \u001b[0m | \u001b[0m2.0      \u001b[0m | \u001b[0m7.748    \u001b[0m |\n",
      "| \u001b[0m82       \u001b[0m | \u001b[0m-0.1151  \u001b[0m | \u001b[0m0.6661   \u001b[0m | \u001b[0m8.927    \u001b[0m |\n",
      "| \u001b[0m83       \u001b[0m | \u001b[0m-0.1115  \u001b[0m | \u001b[0m1.66     \u001b[0m | \u001b[0m9.895    \u001b[0m |\n",
      "| \u001b[0m84       \u001b[0m | \u001b[0m-0.1114  \u001b[0m | \u001b[0m1.577    \u001b[0m | \u001b[0m5.04     \u001b[0m |\n",
      "| \u001b[0m85       \u001b[0m | \u001b[0m-0.1136  \u001b[0m | \u001b[0m0.787    \u001b[0m | \u001b[0m7.657    \u001b[0m |\n",
      "| \u001b[0m86       \u001b[0m | \u001b[0m-0.118   \u001b[0m | \u001b[0m0.4664   \u001b[0m | \u001b[0m8.19     \u001b[0m |\n",
      "| \u001b[0m87       \u001b[0m | \u001b[0m-0.1124  \u001b[0m | \u001b[0m0.8603   \u001b[0m | \u001b[0m9.738    \u001b[0m |\n",
      "| \u001b[0m88       \u001b[0m | \u001b[0m-0.1117  \u001b[0m | \u001b[0m1.362    \u001b[0m | \u001b[0m8.661    \u001b[0m |\n",
      "| \u001b[0m89       \u001b[0m | \u001b[0m-0.1113  \u001b[0m | \u001b[0m1.663    \u001b[0m | \u001b[0m7.998    \u001b[0m |\n",
      "| \u001b[0m90       \u001b[0m | \u001b[0m-1.574   \u001b[0m | \u001b[0m0.01898  \u001b[0m | \u001b[0m7.151    \u001b[0m |\n",
      "| \u001b[0m91       \u001b[0m | \u001b[0m-0.1425  \u001b[0m | \u001b[0m0.5213   \u001b[0m | \u001b[0m6.69     \u001b[0m |\n",
      "| \u001b[0m92       \u001b[0m | \u001b[0m-0.1114  \u001b[0m | \u001b[0m1.573    \u001b[0m | \u001b[0m6.575    \u001b[0m |\n",
      "| \u001b[0m93       \u001b[0m | \u001b[0m-0.1132  \u001b[0m | \u001b[0m1.582    \u001b[0m | \u001b[0m3.31     \u001b[0m |\n",
      "| \u001b[0m94       \u001b[0m | \u001b[0m-0.1149  \u001b[0m | \u001b[0m1.129    \u001b[0m | \u001b[0m5.294    \u001b[0m |\n",
      "| \u001b[0m95       \u001b[0m | \u001b[0m-0.1138  \u001b[0m | \u001b[0m2.0      \u001b[0m | \u001b[0m7.747    \u001b[0m |\n",
      "| \u001b[0m96       \u001b[0m | \u001b[0m-0.1264  \u001b[0m | \u001b[0m0.5852   \u001b[0m | \u001b[0m4.529    \u001b[0m |\n",
      "| \u001b[0m97       \u001b[0m | \u001b[0m-0.1128  \u001b[0m | \u001b[0m0.8132   \u001b[0m | \u001b[0m9.259    \u001b[0m |\n",
      "| \u001b[0m98       \u001b[0m | \u001b[0m-0.1114  \u001b[0m | \u001b[0m1.224    \u001b[0m | \u001b[0m9.161    \u001b[0m |\n",
      "| \u001b[0m99       \u001b[0m | \u001b[0m-0.1138  \u001b[0m | \u001b[0m1.999    \u001b[0m | \u001b[0m8.981    \u001b[0m |\n"
     ]
    },
    {
     "name": "stdout",
     "output_type": "stream",
     "text": [
      "| \u001b[0m100      \u001b[0m | \u001b[0m-0.1236  \u001b[0m | \u001b[0m0.5598   \u001b[0m | \u001b[0m6.259    \u001b[0m |\n",
      "| \u001b[0m101      \u001b[0m | \u001b[0m-1.693   \u001b[0m | \u001b[0m0.01     \u001b[0m | \u001b[0m6.065    \u001b[0m |\n",
      "| \u001b[0m102      \u001b[0m | \u001b[0m-0.1117  \u001b[0m | \u001b[0m1.116    \u001b[0m | \u001b[0m7.054    \u001b[0m |\n",
      "| \u001b[0m103      \u001b[0m | \u001b[0m-0.1128  \u001b[0m | \u001b[0m1.237    \u001b[0m | \u001b[0m4.307    \u001b[0m |\n",
      "=================================================\n"
     ]
    }
   ],
   "source": [
    "optimizer.maximize(\n",
    "    init_points=3, \n",
    "    n_iter=100, \n",
    ")"
   ]
  },
  {
   "cell_type": "code",
   "execution_count": 423,
   "id": "02742740",
   "metadata": {},
   "outputs": [
    {
     "data": {
      "text/plain": [
       "{'learning_rate': 1.686979933603153, 'max_depth': 9.048849097940542}"
      ]
     },
     "execution_count": 423,
     "metadata": {},
     "output_type": "execute_result"
    }
   ],
   "source": [
    "best_hyperparameters = optimizer.max['params']\n",
    "best_hyperparameters"
   ]
  },
  {
   "cell_type": "markdown",
   "id": "01e631a7",
   "metadata": {},
   "source": [
    "### Save Model to .json"
   ]
  },
  {
   "cell_type": "code",
   "execution_count": 537,
   "id": "ab9b443d",
   "metadata": {},
   "outputs": [
    {
     "name": "stderr",
     "output_type": "stream",
     "text": [
      "C:\\Users\\Wilson\\AppData\\Local\\Temp/ipykernel_31672/2434069213.py:5: UserWarning: This pattern has match groups. To actually get the groups, use str.extract.\n",
      "  df['FS'] = df['menuname'].str.contains(patternFS)\n",
      "C:\\Users\\Wilson\\AppData\\Local\\Temp/ipykernel_31672/2434069213.py:7: UserWarning: This pattern has match groups. To actually get the groups, use str.extract.\n",
      "  df['B1G1'] = df['menuname'].str.contains(patternB1G1)\n",
      "C:\\Users\\Wilson\\AppData\\Local\\Temp/ipykernel_31672/2434069213.py:5: UserWarning: This pattern has match groups. To actually get the groups, use str.extract.\n",
      "  df['FS'] = df['menuname'].str.contains(patternFS)\n",
      "C:\\Users\\Wilson\\AppData\\Local\\Temp/ipykernel_31672/2434069213.py:7: UserWarning: This pattern has match groups. To actually get the groups, use str.extract.\n",
      "  df['B1G1'] = df['menuname'].str.contains(patternB1G1)\n",
      "C:\\Users\\Wilson\\AppData\\Local\\Temp/ipykernel_31672/2434069213.py:5: UserWarning: This pattern has match groups. To actually get the groups, use str.extract.\n",
      "  df['FS'] = df['menuname'].str.contains(patternFS)\n",
      "C:\\Users\\Wilson\\AppData\\Local\\Temp/ipykernel_31672/2434069213.py:7: UserWarning: This pattern has match groups. To actually get the groups, use str.extract.\n",
      "  df['B1G1'] = df['menuname'].str.contains(patternB1G1)\n",
      "C:\\Users\\Wilson\\AppData\\Local\\Temp/ipykernel_31672/2434069213.py:5: UserWarning: This pattern has match groups. To actually get the groups, use str.extract.\n",
      "  df['FS'] = df['menuname'].str.contains(patternFS)\n",
      "C:\\Users\\Wilson\\AppData\\Local\\Temp/ipykernel_31672/2434069213.py:7: UserWarning: This pattern has match groups. To actually get the groups, use str.extract.\n",
      "  df['B1G1'] = df['menuname'].str.contains(patternB1G1)\n",
      "C:\\Users\\Wilson\\AppData\\Local\\Temp/ipykernel_31672/2434069213.py:5: UserWarning: This pattern has match groups. To actually get the groups, use str.extract.\n",
      "  df['FS'] = df['menuname'].str.contains(patternFS)\n",
      "C:\\Users\\Wilson\\AppData\\Local\\Temp/ipykernel_31672/2434069213.py:7: UserWarning: This pattern has match groups. To actually get the groups, use str.extract.\n",
      "  df['B1G1'] = df['menuname'].str.contains(patternB1G1)\n",
      "C:\\Users\\Wilson\\AppData\\Local\\Temp/ipykernel_31672/2434069213.py:5: UserWarning: This pattern has match groups. To actually get the groups, use str.extract.\n",
      "  df['FS'] = df['menuname'].str.contains(patternFS)\n",
      "C:\\Users\\Wilson\\AppData\\Local\\Temp/ipykernel_31672/2434069213.py:7: UserWarning: This pattern has match groups. To actually get the groups, use str.extract.\n",
      "  df['B1G1'] = df['menuname'].str.contains(patternB1G1)\n"
     ]
    },
    {
     "name": "stdout",
     "output_type": "stream",
     "text": [
      "error created model:  Spicy Gyudon\n",
      "error created model:  0\n",
      "error created model:  Sei Sapi sambal matah\n",
      "error created model:  Sei Ayam sambal matah\n",
      "error created model:  Sei Sapi sambal andaliman\n",
      "error created model:  Sei Sapi sambal rica\n"
     ]
    },
    {
     "name": "stderr",
     "output_type": "stream",
     "text": [
      "C:\\Users\\Wilson\\AppData\\Local\\Temp/ipykernel_31672/2434069213.py:5: UserWarning: This pattern has match groups. To actually get the groups, use str.extract.\n",
      "  df['FS'] = df['menuname'].str.contains(patternFS)\n",
      "C:\\Users\\Wilson\\AppData\\Local\\Temp/ipykernel_31672/2434069213.py:7: UserWarning: This pattern has match groups. To actually get the groups, use str.extract.\n",
      "  df['B1G1'] = df['menuname'].str.contains(patternB1G1)\n",
      "C:\\Users\\Wilson\\AppData\\Local\\Temp/ipykernel_31672/2434069213.py:5: UserWarning: This pattern has match groups. To actually get the groups, use str.extract.\n",
      "  df['FS'] = df['menuname'].str.contains(patternFS)\n",
      "C:\\Users\\Wilson\\AppData\\Local\\Temp/ipykernel_31672/2434069213.py:7: UserWarning: This pattern has match groups. To actually get the groups, use str.extract.\n",
      "  df['B1G1'] = df['menuname'].str.contains(patternB1G1)\n",
      "C:\\Users\\Wilson\\AppData\\Local\\Temp/ipykernel_31672/2434069213.py:5: UserWarning: This pattern has match groups. To actually get the groups, use str.extract.\n",
      "  df['FS'] = df['menuname'].str.contains(patternFS)\n",
      "C:\\Users\\Wilson\\AppData\\Local\\Temp/ipykernel_31672/2434069213.py:7: UserWarning: This pattern has match groups. To actually get the groups, use str.extract.\n",
      "  df['B1G1'] = df['menuname'].str.contains(patternB1G1)\n",
      "C:\\Users\\Wilson\\AppData\\Local\\Temp/ipykernel_31672/2434069213.py:5: UserWarning: This pattern has match groups. To actually get the groups, use str.extract.\n",
      "  df['FS'] = df['menuname'].str.contains(patternFS)\n",
      "C:\\Users\\Wilson\\AppData\\Local\\Temp/ipykernel_31672/2434069213.py:7: UserWarning: This pattern has match groups. To actually get the groups, use str.extract.\n",
      "  df['B1G1'] = df['menuname'].str.contains(patternB1G1)\n",
      "C:\\Users\\Wilson\\AppData\\Local\\Temp/ipykernel_31672/2434069213.py:5: UserWarning: This pattern has match groups. To actually get the groups, use str.extract.\n",
      "  df['FS'] = df['menuname'].str.contains(patternFS)\n",
      "C:\\Users\\Wilson\\AppData\\Local\\Temp/ipykernel_31672/2434069213.py:7: UserWarning: This pattern has match groups. To actually get the groups, use str.extract.\n",
      "  df['B1G1'] = df['menuname'].str.contains(patternB1G1)\n",
      "C:\\Users\\Wilson\\AppData\\Local\\Temp/ipykernel_31672/2434069213.py:5: UserWarning: This pattern has match groups. To actually get the groups, use str.extract.\n",
      "  df['FS'] = df['menuname'].str.contains(patternFS)\n",
      "C:\\Users\\Wilson\\AppData\\Local\\Temp/ipykernel_31672/2434069213.py:7: UserWarning: This pattern has match groups. To actually get the groups, use str.extract.\n",
      "  df['B1G1'] = df['menuname'].str.contains(patternB1G1)\n"
     ]
    },
    {
     "name": "stdout",
     "output_type": "stream",
     "text": [
      "error created model:  Extra Item\n",
      "error created model:  Sei Sapi Belimbing Wuluh \n",
      "error created model:  Miso Gyudon\n",
      "error created model:  Mentai Gyudon\n",
      "error created model:  Sei Ayam Longboard\n",
      "error created model:  Korean Fried Chicken Wings\n"
     ]
    },
    {
     "name": "stderr",
     "output_type": "stream",
     "text": [
      "C:\\Users\\Wilson\\AppData\\Local\\Temp/ipykernel_31672/2434069213.py:5: UserWarning: This pattern has match groups. To actually get the groups, use str.extract.\n",
      "  df['FS'] = df['menuname'].str.contains(patternFS)\n",
      "C:\\Users\\Wilson\\AppData\\Local\\Temp/ipykernel_31672/2434069213.py:7: UserWarning: This pattern has match groups. To actually get the groups, use str.extract.\n",
      "  df['B1G1'] = df['menuname'].str.contains(patternB1G1)\n",
      "C:\\Users\\Wilson\\AppData\\Local\\Temp/ipykernel_31672/2434069213.py:5: UserWarning: This pattern has match groups. To actually get the groups, use str.extract.\n",
      "  df['FS'] = df['menuname'].str.contains(patternFS)\n",
      "C:\\Users\\Wilson\\AppData\\Local\\Temp/ipykernel_31672/2434069213.py:7: UserWarning: This pattern has match groups. To actually get the groups, use str.extract.\n",
      "  df['B1G1'] = df['menuname'].str.contains(patternB1G1)\n",
      "C:\\Users\\Wilson\\AppData\\Local\\Temp/ipykernel_31672/2434069213.py:5: UserWarning: This pattern has match groups. To actually get the groups, use str.extract.\n",
      "  df['FS'] = df['menuname'].str.contains(patternFS)\n",
      "C:\\Users\\Wilson\\AppData\\Local\\Temp/ipykernel_31672/2434069213.py:7: UserWarning: This pattern has match groups. To actually get the groups, use str.extract.\n",
      "  df['B1G1'] = df['menuname'].str.contains(patternB1G1)\n",
      "C:\\Users\\Wilson\\AppData\\Local\\Temp/ipykernel_31672/2434069213.py:5: UserWarning: This pattern has match groups. To actually get the groups, use str.extract.\n",
      "  df['FS'] = df['menuname'].str.contains(patternFS)\n",
      "C:\\Users\\Wilson\\AppData\\Local\\Temp/ipykernel_31672/2434069213.py:7: UserWarning: This pattern has match groups. To actually get the groups, use str.extract.\n",
      "  df['B1G1'] = df['menuname'].str.contains(patternB1G1)\n",
      "C:\\Users\\Wilson\\AppData\\Local\\Temp/ipykernel_31672/2434069213.py:5: UserWarning: This pattern has match groups. To actually get the groups, use str.extract.\n",
      "  df['FS'] = df['menuname'].str.contains(patternFS)\n",
      "C:\\Users\\Wilson\\AppData\\Local\\Temp/ipykernel_31672/2434069213.py:7: UserWarning: This pattern has match groups. To actually get the groups, use str.extract.\n",
      "  df['B1G1'] = df['menuname'].str.contains(patternB1G1)\n",
      "C:\\Users\\Wilson\\AppData\\Local\\Temp/ipykernel_31672/2434069213.py:5: UserWarning: This pattern has match groups. To actually get the groups, use str.extract.\n",
      "  df['FS'] = df['menuname'].str.contains(patternFS)\n",
      "C:\\Users\\Wilson\\AppData\\Local\\Temp/ipykernel_31672/2434069213.py:7: UserWarning: This pattern has match groups. To actually get the groups, use str.extract.\n",
      "  df['B1G1'] = df['menuname'].str.contains(patternB1G1)\n",
      "C:\\Users\\Wilson\\AppData\\Local\\Temp/ipykernel_31672/2434069213.py:5: UserWarning: This pattern has match groups. To actually get the groups, use str.extract.\n",
      "  df['FS'] = df['menuname'].str.contains(patternFS)\n",
      "C:\\Users\\Wilson\\AppData\\Local\\Temp/ipykernel_31672/2434069213.py:7: UserWarning: This pattern has match groups. To actually get the groups, use str.extract.\n",
      "  df['B1G1'] = df['menuname'].str.contains(patternB1G1)\n"
     ]
    },
    {
     "name": "stdout",
     "output_type": "stream",
     "text": [
      "Sei Sultan sambal rica mae: 0.2226270904454092\n",
      "error created model:  Sei Sultan sambal matah\n",
      "error created model:  Sei Ayam sambal andaliman\n",
      "error created model:  Sei Sapi Premium Longboard\n",
      "error created model:  Sei Sultan sambal andaliman\n",
      "error created model:  Sei Sultan Belimbing Wuluh\n",
      "error created model:  Sei Sapi sambal Embe\n"
     ]
    },
    {
     "name": "stderr",
     "output_type": "stream",
     "text": [
      "C:\\Users\\Wilson\\AppData\\Local\\Temp/ipykernel_31672/2434069213.py:5: UserWarning: This pattern has match groups. To actually get the groups, use str.extract.\n",
      "  df['FS'] = df['menuname'].str.contains(patternFS)\n",
      "C:\\Users\\Wilson\\AppData\\Local\\Temp/ipykernel_31672/2434069213.py:7: UserWarning: This pattern has match groups. To actually get the groups, use str.extract.\n",
      "  df['B1G1'] = df['menuname'].str.contains(patternB1G1)\n",
      "C:\\Users\\Wilson\\AppData\\Local\\Temp/ipykernel_31672/2434069213.py:5: UserWarning: This pattern has match groups. To actually get the groups, use str.extract.\n",
      "  df['FS'] = df['menuname'].str.contains(patternFS)\n",
      "C:\\Users\\Wilson\\AppData\\Local\\Temp/ipykernel_31672/2434069213.py:7: UserWarning: This pattern has match groups. To actually get the groups, use str.extract.\n",
      "  df['B1G1'] = df['menuname'].str.contains(patternB1G1)\n",
      "C:\\Users\\Wilson\\AppData\\Local\\Temp/ipykernel_31672/2434069213.py:5: UserWarning: This pattern has match groups. To actually get the groups, use str.extract.\n",
      "  df['FS'] = df['menuname'].str.contains(patternFS)\n",
      "C:\\Users\\Wilson\\AppData\\Local\\Temp/ipykernel_31672/2434069213.py:7: UserWarning: This pattern has match groups. To actually get the groups, use str.extract.\n",
      "  df['B1G1'] = df['menuname'].str.contains(patternB1G1)\n",
      "C:\\Users\\Wilson\\AppData\\Local\\Temp/ipykernel_31672/2434069213.py:5: UserWarning: This pattern has match groups. To actually get the groups, use str.extract.\n",
      "  df['FS'] = df['menuname'].str.contains(patternFS)\n",
      "C:\\Users\\Wilson\\AppData\\Local\\Temp/ipykernel_31672/2434069213.py:7: UserWarning: This pattern has match groups. To actually get the groups, use str.extract.\n",
      "  df['B1G1'] = df['menuname'].str.contains(patternB1G1)\n",
      "C:\\Users\\Wilson\\AppData\\Local\\Temp/ipykernel_31672/2434069213.py:5: UserWarning: This pattern has match groups. To actually get the groups, use str.extract.\n",
      "  df['FS'] = df['menuname'].str.contains(patternFS)\n",
      "C:\\Users\\Wilson\\AppData\\Local\\Temp/ipykernel_31672/2434069213.py:7: UserWarning: This pattern has match groups. To actually get the groups, use str.extract.\n",
      "  df['B1G1'] = df['menuname'].str.contains(patternB1G1)\n",
      "C:\\Users\\Wilson\\AppData\\Local\\Temp/ipykernel_31672/2434069213.py:5: UserWarning: This pattern has match groups. To actually get the groups, use str.extract.\n",
      "  df['FS'] = df['menuname'].str.contains(patternFS)\n",
      "C:\\Users\\Wilson\\AppData\\Local\\Temp/ipykernel_31672/2434069213.py:7: UserWarning: This pattern has match groups. To actually get the groups, use str.extract.\n",
      "  df['B1G1'] = df['menuname'].str.contains(patternB1G1)\n",
      "C:\\Users\\Wilson\\AppData\\Local\\Temp/ipykernel_31672/2434069213.py:5: UserWarning: This pattern has match groups. To actually get the groups, use str.extract.\n",
      "  df['FS'] = df['menuname'].str.contains(patternFS)\n",
      "C:\\Users\\Wilson\\AppData\\Local\\Temp/ipykernel_31672/2434069213.py:7: UserWarning: This pattern has match groups. To actually get the groups, use str.extract.\n",
      "  df['B1G1'] = df['menuname'].str.contains(patternB1G1)\n"
     ]
    },
    {
     "name": "stdout",
     "output_type": "stream",
     "text": [
      "error created model:  Sei Ayam Belimbing Wuluh\n",
      "error created model:  Spaghetti Spicy Seafood Mentai\n",
      "error created model:  Truffle Gyudon\n",
      "error created model:  Sei Ayam sambal rica\n",
      "error created model:  Spaghetti with Truffle Cream and Chicken\n",
      "error created model:  Buttermilk Chicken\n",
      "error created model:  Black Pepper Chicken\n"
     ]
    },
    {
     "name": "stderr",
     "output_type": "stream",
     "text": [
      "C:\\Users\\Wilson\\AppData\\Local\\Temp/ipykernel_31672/2434069213.py:5: UserWarning: This pattern has match groups. To actually get the groups, use str.extract.\n",
      "  df['FS'] = df['menuname'].str.contains(patternFS)\n",
      "C:\\Users\\Wilson\\AppData\\Local\\Temp/ipykernel_31672/2434069213.py:7: UserWarning: This pattern has match groups. To actually get the groups, use str.extract.\n",
      "  df['B1G1'] = df['menuname'].str.contains(patternB1G1)\n",
      "C:\\Users\\Wilson\\AppData\\Local\\Temp/ipykernel_31672/2434069213.py:5: UserWarning: This pattern has match groups. To actually get the groups, use str.extract.\n",
      "  df['FS'] = df['menuname'].str.contains(patternFS)\n",
      "C:\\Users\\Wilson\\AppData\\Local\\Temp/ipykernel_31672/2434069213.py:7: UserWarning: This pattern has match groups. To actually get the groups, use str.extract.\n",
      "  df['B1G1'] = df['menuname'].str.contains(patternB1G1)\n",
      "C:\\Users\\Wilson\\AppData\\Local\\Temp/ipykernel_31672/2434069213.py:5: UserWarning: This pattern has match groups. To actually get the groups, use str.extract.\n",
      "  df['FS'] = df['menuname'].str.contains(patternFS)\n",
      "C:\\Users\\Wilson\\AppData\\Local\\Temp/ipykernel_31672/2434069213.py:7: UserWarning: This pattern has match groups. To actually get the groups, use str.extract.\n",
      "  df['B1G1'] = df['menuname'].str.contains(patternB1G1)\n",
      "C:\\Users\\Wilson\\AppData\\Local\\Temp/ipykernel_31672/2434069213.py:5: UserWarning: This pattern has match groups. To actually get the groups, use str.extract.\n",
      "  df['FS'] = df['menuname'].str.contains(patternFS)\n",
      "C:\\Users\\Wilson\\AppData\\Local\\Temp/ipykernel_31672/2434069213.py:7: UserWarning: This pattern has match groups. To actually get the groups, use str.extract.\n",
      "  df['B1G1'] = df['menuname'].str.contains(patternB1G1)\n",
      "C:\\Users\\Wilson\\AppData\\Local\\Temp/ipykernel_31672/2434069213.py:5: UserWarning: This pattern has match groups. To actually get the groups, use str.extract.\n",
      "  df['FS'] = df['menuname'].str.contains(patternFS)\n",
      "C:\\Users\\Wilson\\AppData\\Local\\Temp/ipykernel_31672/2434069213.py:7: UserWarning: This pattern has match groups. To actually get the groups, use str.extract.\n",
      "  df['B1G1'] = df['menuname'].str.contains(patternB1G1)\n",
      "C:\\Users\\Wilson\\AppData\\Local\\Temp/ipykernel_31672/2434069213.py:5: UserWarning: This pattern has match groups. To actually get the groups, use str.extract.\n",
      "  df['FS'] = df['menuname'].str.contains(patternFS)\n",
      "C:\\Users\\Wilson\\AppData\\Local\\Temp/ipykernel_31672/2434069213.py:7: UserWarning: This pattern has match groups. To actually get the groups, use str.extract.\n",
      "  df['B1G1'] = df['menuname'].str.contains(patternB1G1)\n"
     ]
    },
    {
     "name": "stdout",
     "output_type": "stream",
     "text": [
      "error created model:  Kung Pao Chicken\n",
      "error created model:  Crispy Cereal Chicken\n",
      "error created model:  Spaghetti Cakalang Cabe Ijo\n",
      "error created model:  Spaghetti Gulai Ayam\n",
      "Spaghetti Bolognese Brulee mae: 0.11307419407077962\n",
      "error created model:  Classic Mentega Chicken\n",
      "error created model:  Spaghetti Chicken & Mushroom Crema\n"
     ]
    },
    {
     "name": "stderr",
     "output_type": "stream",
     "text": [
      "C:\\Users\\Wilson\\AppData\\Local\\Temp/ipykernel_31672/2434069213.py:5: UserWarning: This pattern has match groups. To actually get the groups, use str.extract.\n",
      "  df['FS'] = df['menuname'].str.contains(patternFS)\n",
      "C:\\Users\\Wilson\\AppData\\Local\\Temp/ipykernel_31672/2434069213.py:7: UserWarning: This pattern has match groups. To actually get the groups, use str.extract.\n",
      "  df['B1G1'] = df['menuname'].str.contains(patternB1G1)\n",
      "C:\\Users\\Wilson\\AppData\\Local\\Temp/ipykernel_31672/2434069213.py:5: UserWarning: This pattern has match groups. To actually get the groups, use str.extract.\n",
      "  df['FS'] = df['menuname'].str.contains(patternFS)\n",
      "C:\\Users\\Wilson\\AppData\\Local\\Temp/ipykernel_31672/2434069213.py:7: UserWarning: This pattern has match groups. To actually get the groups, use str.extract.\n",
      "  df['B1G1'] = df['menuname'].str.contains(patternB1G1)\n",
      "C:\\Users\\Wilson\\AppData\\Local\\Temp/ipykernel_31672/2434069213.py:5: UserWarning: This pattern has match groups. To actually get the groups, use str.extract.\n",
      "  df['FS'] = df['menuname'].str.contains(patternFS)\n",
      "C:\\Users\\Wilson\\AppData\\Local\\Temp/ipykernel_31672/2434069213.py:7: UserWarning: This pattern has match groups. To actually get the groups, use str.extract.\n",
      "  df['B1G1'] = df['menuname'].str.contains(patternB1G1)\n",
      "C:\\Users\\Wilson\\AppData\\Local\\Temp/ipykernel_31672/2434069213.py:5: UserWarning: This pattern has match groups. To actually get the groups, use str.extract.\n",
      "  df['FS'] = df['menuname'].str.contains(patternFS)\n",
      "C:\\Users\\Wilson\\AppData\\Local\\Temp/ipykernel_31672/2434069213.py:7: UserWarning: This pattern has match groups. To actually get the groups, use str.extract.\n",
      "  df['B1G1'] = df['menuname'].str.contains(patternB1G1)\n",
      "C:\\Users\\Wilson\\AppData\\Local\\Temp/ipykernel_31672/2434069213.py:5: UserWarning: This pattern has match groups. To actually get the groups, use str.extract.\n",
      "  df['FS'] = df['menuname'].str.contains(patternFS)\n",
      "C:\\Users\\Wilson\\AppData\\Local\\Temp/ipykernel_31672/2434069213.py:7: UserWarning: This pattern has match groups. To actually get the groups, use str.extract.\n",
      "  df['B1G1'] = df['menuname'].str.contains(patternB1G1)\n",
      "C:\\Users\\Wilson\\AppData\\Local\\Temp/ipykernel_31672/2434069213.py:5: UserWarning: This pattern has match groups. To actually get the groups, use str.extract.\n",
      "  df['FS'] = df['menuname'].str.contains(patternFS)\n",
      "C:\\Users\\Wilson\\AppData\\Local\\Temp/ipykernel_31672/2434069213.py:7: UserWarning: This pattern has match groups. To actually get the groups, use str.extract.\n",
      "  df['B1G1'] = df['menuname'].str.contains(patternB1G1)\n",
      "C:\\Users\\Wilson\\AppData\\Local\\Temp/ipykernel_31672/2434069213.py:5: UserWarning: This pattern has match groups. To actually get the groups, use str.extract.\n",
      "  df['FS'] = df['menuname'].str.contains(patternFS)\n",
      "C:\\Users\\Wilson\\AppData\\Local\\Temp/ipykernel_31672/2434069213.py:7: UserWarning: This pattern has match groups. To actually get the groups, use str.extract.\n",
      "  df['B1G1'] = df['menuname'].str.contains(patternB1G1)\n"
     ]
    },
    {
     "name": "stdout",
     "output_type": "stream",
     "text": [
      "error created model:  Nasei Bungkus Ayam Padang\n",
      "error created model:  Spaghetti Smoked Beef Garlic Butter\n",
      "error created model:  Sei Ayam Juicy\n",
      "error created model:  Spaghetti Prawn/Chicken Aglio Olio\n",
      "error created model:  Ninniku Gyudon\n",
      "error created model:  Teriyaki Gyudon\n",
      "Gyudon Aburi with Miso Mayo & Sambal Korek mae: 0.11134870927586842\n",
      "error created model:  Spaghetti with Truffle Cream & Chicken\n",
      "error created model:  Spaghetti Carbonara Smoked Beef\n"
     ]
    },
    {
     "name": "stderr",
     "output_type": "stream",
     "text": [
      "C:\\Users\\Wilson\\AppData\\Local\\Temp/ipykernel_31672/2434069213.py:5: UserWarning: This pattern has match groups. To actually get the groups, use str.extract.\n",
      "  df['FS'] = df['menuname'].str.contains(patternFS)\n",
      "C:\\Users\\Wilson\\AppData\\Local\\Temp/ipykernel_31672/2434069213.py:7: UserWarning: This pattern has match groups. To actually get the groups, use str.extract.\n",
      "  df['B1G1'] = df['menuname'].str.contains(patternB1G1)\n",
      "C:\\Users\\Wilson\\AppData\\Local\\Temp/ipykernel_31672/2434069213.py:5: UserWarning: This pattern has match groups. To actually get the groups, use str.extract.\n",
      "  df['FS'] = df['menuname'].str.contains(patternFS)\n",
      "C:\\Users\\Wilson\\AppData\\Local\\Temp/ipykernel_31672/2434069213.py:7: UserWarning: This pattern has match groups. To actually get the groups, use str.extract.\n",
      "  df['B1G1'] = df['menuname'].str.contains(patternB1G1)\n",
      "C:\\Users\\Wilson\\AppData\\Local\\Temp/ipykernel_31672/2434069213.py:5: UserWarning: This pattern has match groups. To actually get the groups, use str.extract.\n",
      "  df['FS'] = df['menuname'].str.contains(patternFS)\n",
      "C:\\Users\\Wilson\\AppData\\Local\\Temp/ipykernel_31672/2434069213.py:7: UserWarning: This pattern has match groups. To actually get the groups, use str.extract.\n",
      "  df['B1G1'] = df['menuname'].str.contains(patternB1G1)\n",
      "C:\\Users\\Wilson\\AppData\\Local\\Temp/ipykernel_31672/2434069213.py:5: UserWarning: This pattern has match groups. To actually get the groups, use str.extract.\n",
      "  df['FS'] = df['menuname'].str.contains(patternFS)\n",
      "C:\\Users\\Wilson\\AppData\\Local\\Temp/ipykernel_31672/2434069213.py:7: UserWarning: This pattern has match groups. To actually get the groups, use str.extract.\n",
      "  df['B1G1'] = df['menuname'].str.contains(patternB1G1)\n",
      "C:\\Users\\Wilson\\AppData\\Local\\Temp/ipykernel_31672/2434069213.py:5: UserWarning: This pattern has match groups. To actually get the groups, use str.extract.\n",
      "  df['FS'] = df['menuname'].str.contains(patternFS)\n",
      "C:\\Users\\Wilson\\AppData\\Local\\Temp/ipykernel_31672/2434069213.py:7: UserWarning: This pattern has match groups. To actually get the groups, use str.extract.\n",
      "  df['B1G1'] = df['menuname'].str.contains(patternB1G1)\n",
      "C:\\Users\\Wilson\\AppData\\Local\\Temp/ipykernel_31672/2434069213.py:5: UserWarning: This pattern has match groups. To actually get the groups, use str.extract.\n",
      "  df['FS'] = df['menuname'].str.contains(patternFS)\n",
      "C:\\Users\\Wilson\\AppData\\Local\\Temp/ipykernel_31672/2434069213.py:7: UserWarning: This pattern has match groups. To actually get the groups, use str.extract.\n",
      "  df['B1G1'] = df['menuname'].str.contains(patternB1G1)\n",
      "C:\\Users\\Wilson\\AppData\\Local\\Temp/ipykernel_31672/2434069213.py:5: UserWarning: This pattern has match groups. To actually get the groups, use str.extract.\n",
      "  df['FS'] = df['menuname'].str.contains(patternFS)\n",
      "C:\\Users\\Wilson\\AppData\\Local\\Temp/ipykernel_31672/2434069213.py:7: UserWarning: This pattern has match groups. To actually get the groups, use str.extract.\n",
      "  df['B1G1'] = df['menuname'].str.contains(patternB1G1)\n"
     ]
    },
    {
     "name": "stdout",
     "output_type": "stream",
     "text": [
      "error created model:  Nasei Bungkus Sapi Padang\n",
      "Chicken Katsu Don mae: 2.222636125360926\n",
      "error created model:  Nachos with Cajun Sauce\n",
      "error created model:  Sweet and Spicy Chicken\n",
      "error created model:  Nachos with Sambal\n",
      "error created model:  Chicken Skin\n",
      "error created model:  Spaghetti Samyang Carbonara\n"
     ]
    },
    {
     "name": "stderr",
     "output_type": "stream",
     "text": [
      "C:\\Users\\Wilson\\AppData\\Local\\Temp/ipykernel_31672/2434069213.py:5: UserWarning: This pattern has match groups. To actually get the groups, use str.extract.\n",
      "  df['FS'] = df['menuname'].str.contains(patternFS)\n",
      "C:\\Users\\Wilson\\AppData\\Local\\Temp/ipykernel_31672/2434069213.py:7: UserWarning: This pattern has match groups. To actually get the groups, use str.extract.\n",
      "  df['B1G1'] = df['menuname'].str.contains(patternB1G1)\n",
      "C:\\Users\\Wilson\\AppData\\Local\\Temp/ipykernel_31672/2434069213.py:5: UserWarning: This pattern has match groups. To actually get the groups, use str.extract.\n",
      "  df['FS'] = df['menuname'].str.contains(patternFS)\n",
      "C:\\Users\\Wilson\\AppData\\Local\\Temp/ipykernel_31672/2434069213.py:7: UserWarning: This pattern has match groups. To actually get the groups, use str.extract.\n",
      "  df['B1G1'] = df['menuname'].str.contains(patternB1G1)\n",
      "C:\\Users\\Wilson\\AppData\\Local\\Temp/ipykernel_31672/2434069213.py:5: UserWarning: This pattern has match groups. To actually get the groups, use str.extract.\n",
      "  df['FS'] = df['menuname'].str.contains(patternFS)\n",
      "C:\\Users\\Wilson\\AppData\\Local\\Temp/ipykernel_31672/2434069213.py:7: UserWarning: This pattern has match groups. To actually get the groups, use str.extract.\n",
      "  df['B1G1'] = df['menuname'].str.contains(patternB1G1)\n",
      "C:\\Users\\Wilson\\AppData\\Local\\Temp/ipykernel_31672/2434069213.py:5: UserWarning: This pattern has match groups. To actually get the groups, use str.extract.\n",
      "  df['FS'] = df['menuname'].str.contains(patternFS)\n",
      "C:\\Users\\Wilson\\AppData\\Local\\Temp/ipykernel_31672/2434069213.py:7: UserWarning: This pattern has match groups. To actually get the groups, use str.extract.\n",
      "  df['B1G1'] = df['menuname'].str.contains(patternB1G1)\n",
      "C:\\Users\\Wilson\\AppData\\Local\\Temp/ipykernel_31672/2434069213.py:5: UserWarning: This pattern has match groups. To actually get the groups, use str.extract.\n",
      "  df['FS'] = df['menuname'].str.contains(patternFS)\n",
      "C:\\Users\\Wilson\\AppData\\Local\\Temp/ipykernel_31672/2434069213.py:7: UserWarning: This pattern has match groups. To actually get the groups, use str.extract.\n",
      "  df['B1G1'] = df['menuname'].str.contains(patternB1G1)\n",
      "C:\\Users\\Wilson\\AppData\\Local\\Temp/ipykernel_31672/2434069213.py:5: UserWarning: This pattern has match groups. To actually get the groups, use str.extract.\n",
      "  df['FS'] = df['menuname'].str.contains(patternFS)\n",
      "C:\\Users\\Wilson\\AppData\\Local\\Temp/ipykernel_31672/2434069213.py:7: UserWarning: This pattern has match groups. To actually get the groups, use str.extract.\n",
      "  df['B1G1'] = df['menuname'].str.contains(patternB1G1)\n",
      "C:\\Users\\Wilson\\AppData\\Local\\Temp/ipykernel_31672/2434069213.py:5: UserWarning: This pattern has match groups. To actually get the groups, use str.extract.\n",
      "  df['FS'] = df['menuname'].str.contains(patternFS)\n",
      "C:\\Users\\Wilson\\AppData\\Local\\Temp/ipykernel_31672/2434069213.py:7: UserWarning: This pattern has match groups. To actually get the groups, use str.extract.\n",
      "  df['B1G1'] = df['menuname'].str.contains(patternB1G1)\n"
     ]
    },
    {
     "name": "stdout",
     "output_type": "stream",
     "text": [
      "error created model:  Bumbu Cabe Garam Chicken\n",
      "error created model:  Korean Hot Sauce Chicken\n",
      "error created model:  Beef Gyudon Aburi\n",
      "error created model:  Classic Spaghetti Bolognese\n",
      "error created model:  Caramelized Butter Chicken\n",
      "error created model:  Nachos with Bolognese Sauce\n",
      "error created model:  Sei Sapi Platter\n",
      "error created model:  Spaghetti Sausage Alfredo Junior\n",
      "error created model:  Sei Ayam Platter\n",
      "error created model:  Chicken Dice Kungpao\n",
      "error created model:  Sei Sultan Platter\n",
      "error created model:  Spaghetti Chicken Singapore Laksa\n",
      "error created model:  Spaghetti Chicken Soto\n",
      "error created model:  Spaghetti Chicken Malaysian Kari\n"
     ]
    },
    {
     "name": "stderr",
     "output_type": "stream",
     "text": [
      "C:\\Users\\Wilson\\AppData\\Local\\Temp/ipykernel_31672/2434069213.py:5: UserWarning: This pattern has match groups. To actually get the groups, use str.extract.\n",
      "  df['FS'] = df['menuname'].str.contains(patternFS)\n",
      "C:\\Users\\Wilson\\AppData\\Local\\Temp/ipykernel_31672/2434069213.py:7: UserWarning: This pattern has match groups. To actually get the groups, use str.extract.\n",
      "  df['B1G1'] = df['menuname'].str.contains(patternB1G1)\n",
      "C:\\Users\\Wilson\\AppData\\Local\\Temp/ipykernel_31672/2434069213.py:5: UserWarning: This pattern has match groups. To actually get the groups, use str.extract.\n",
      "  df['FS'] = df['menuname'].str.contains(patternFS)\n",
      "C:\\Users\\Wilson\\AppData\\Local\\Temp/ipykernel_31672/2434069213.py:7: UserWarning: This pattern has match groups. To actually get the groups, use str.extract.\n",
      "  df['B1G1'] = df['menuname'].str.contains(patternB1G1)\n",
      "C:\\Users\\Wilson\\AppData\\Local\\Temp/ipykernel_31672/2434069213.py:5: UserWarning: This pattern has match groups. To actually get the groups, use str.extract.\n",
      "  df['FS'] = df['menuname'].str.contains(patternFS)\n",
      "C:\\Users\\Wilson\\AppData\\Local\\Temp/ipykernel_31672/2434069213.py:7: UserWarning: This pattern has match groups. To actually get the groups, use str.extract.\n",
      "  df['B1G1'] = df['menuname'].str.contains(patternB1G1)\n",
      "C:\\Users\\Wilson\\AppData\\Local\\Temp/ipykernel_31672/2434069213.py:5: UserWarning: This pattern has match groups. To actually get the groups, use str.extract.\n",
      "  df['FS'] = df['menuname'].str.contains(patternFS)\n",
      "C:\\Users\\Wilson\\AppData\\Local\\Temp/ipykernel_31672/2434069213.py:7: UserWarning: This pattern has match groups. To actually get the groups, use str.extract.\n",
      "  df['B1G1'] = df['menuname'].str.contains(patternB1G1)\n"
     ]
    }
   ],
   "source": [
    "\"\"\"for development process all menu group using the same params for each menu_group \n",
    "because limited of time for tuning all model for each menu_group\"\"\"\n",
    "\n",
    "params = {\n",
    "    'max_depth': 9,\n",
    "    'learning_rate': 1.68,\n",
    "}\n",
    "\n",
    "for menu_group in menu_grup_unique:\n",
    "    path = f\"../api/savedmodel/{menu_group}.json\"\n",
    "    try:\n",
    "\n",
    "        X,y = preprocess_feature(df,menu_group)\n",
    "        trainX, testX,trainY, testY = train_test_split(X,y,test_size=0.3,shuffle=False)\n",
    "        scaler = MinMaxScaler()\n",
    "        trainX_scaled = scaler.fit_transform(trainX)\n",
    "        testX_scaled = scaler.transform(testX)\n",
    "        \n",
    "        model = training_model(trainX_scaled,trainY,params)\n",
    "        __, mae = evaluation_model(model,trainY,testY,testX_scaled,False)\n",
    "        model.save_model(path)\n",
    "        print(f\"{menu_group} mae: {mae}\")\n",
    "    except:\n",
    "        print(f\"error created model:  {menu_group}\")"
   ]
  },
  {
   "cell_type": "markdown",
   "id": "4f31a1df",
   "metadata": {},
   "source": [
    "list of model that are succesfully created:\n",
    "- Chicken Katsu Don\n",
    "- Gyudon Aburi with Miso Mayo & Sambal Korek\n",
    "- Sei Sultan sambal rica\n",
    "- Spaghetti Bolognese Brulee\n",
    "\n",
    "the othe menu_group model is failed to be generated because the data too small\n"
   ]
  },
  {
   "cell_type": "markdown",
   "id": "a69e8ec0",
   "metadata": {},
   "source": [
    "## LSTM"
   ]
  },
  {
   "cell_type": "code",
   "execution_count": 543,
   "id": "1bcf0557",
   "metadata": {},
   "outputs": [],
   "source": [
    "def windowed_dataset(series, window_size, batch_size, shuffle_buffer):\n",
    "    series = tf.expand_dims(series, axis=-1)\n",
    "    ds = tf.data.Dataset.from_tensor_slices(series)\n",
    "    ds = ds.window(window_size + 1, shift=1, drop_remainder=True)\n",
    "    ds = ds.flat_map(lambda w: w.batch(window_size + 1))\n",
    "    ds = ds.shuffle(shuffle_buffer)\n",
    "    ds = ds.map(lambda w: (w[:-1], w[1:]))\n",
    "    return ds.batch(batch_size).prefetch(1)"
   ]
  },
  {
   "cell_type": "code",
   "execution_count": null,
   "id": "e8404940",
   "metadata": {},
   "outputs": [],
   "source": []
  }
 ],
 "metadata": {
  "kernelspec": {
   "display_name": "Python 3 (ipykernel)",
   "language": "python",
   "name": "python3"
  },
  "language_info": {
   "codemirror_mode": {
    "name": "ipython",
    "version": 3
   },
   "file_extension": ".py",
   "mimetype": "text/x-python",
   "name": "python",
   "nbconvert_exporter": "python",
   "pygments_lexer": "ipython3",
   "version": "3.9.7"
  }
 },
 "nbformat": 4,
 "nbformat_minor": 5
}
