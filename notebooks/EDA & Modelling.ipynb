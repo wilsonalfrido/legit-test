{
 "cells": [
  {
   "cell_type": "markdown",
   "id": "fd724bc7",
   "metadata": {},
   "source": [
    "## Load data & libraries"
   ]
  },
  {
   "cell_type": "code",
   "execution_count": 3,
   "id": "847e8d3a",
   "metadata": {},
   "outputs": [],
   "source": [
    "import xgboost as xgb\n",
    "import pandas as pd\n",
    "import matplotlib.pyplot as plt\n",
    "import seaborn as sns\n",
    "import numpy as np\n",
    "\n",
    "from sklearn.preprocessing import MinMaxScaler\n",
    "from sklearn.metrics import mean_squared_error, mean_absolute_error\n",
    "from bayes_opt import BayesianOptimization"
   ]
  },
  {
   "cell_type": "code",
   "execution_count": 25,
   "id": "913faf5b",
   "metadata": {},
   "outputs": [
    {
     "data": {
      "text/html": [
       "<div>\n",
       "<style scoped>\n",
       "    .dataframe tbody tr th:only-of-type {\n",
       "        vertical-align: middle;\n",
       "    }\n",
       "\n",
       "    .dataframe tbody tr th {\n",
       "        vertical-align: top;\n",
       "    }\n",
       "\n",
       "    .dataframe thead th {\n",
       "        text-align: right;\n",
       "    }\n",
       "</style>\n",
       "<table border=\"1\" class=\"dataframe\">\n",
       "  <thead>\n",
       "    <tr style=\"text-align: right;\">\n",
       "      <th></th>\n",
       "      <th>salesdate</th>\n",
       "      <th>menuid</th>\n",
       "      <th>menuname</th>\n",
       "      <th>menu_group</th>\n",
       "      <th>qty_total</th>\n",
       "    </tr>\n",
       "  </thead>\n",
       "  <tbody>\n",
       "    <tr>\n",
       "      <th>0</th>\n",
       "      <td>2022-10-09</td>\n",
       "      <td>518</td>\n",
       "      <td>Premium Beef Deal</td>\n",
       "      <td>0</td>\n",
       "      <td>1</td>\n",
       "    </tr>\n",
       "    <tr>\n",
       "      <th>1</th>\n",
       "      <td>2022-10-09</td>\n",
       "      <td>518</td>\n",
       "      <td>Premium Beef Deal</td>\n",
       "      <td>0</td>\n",
       "      <td>1</td>\n",
       "    </tr>\n",
       "    <tr>\n",
       "      <th>2</th>\n",
       "      <td>2022-10-09</td>\n",
       "      <td>518</td>\n",
       "      <td>Premium Beef Deal</td>\n",
       "      <td>0</td>\n",
       "      <td>1</td>\n",
       "    </tr>\n",
       "  </tbody>\n",
       "</table>\n",
       "</div>"
      ],
      "text/plain": [
       "    salesdate  menuid           menuname menu_group  qty_total\n",
       "0  2022-10-09     518  Premium Beef Deal          0          1\n",
       "1  2022-10-09     518  Premium Beef Deal          0          1\n",
       "2  2022-10-09     518  Premium Beef Deal          0          1"
      ]
     },
     "execution_count": 25,
     "metadata": {},
     "output_type": "execute_result"
    }
   ],
   "source": [
    "df = pd.read_csv(\"../dataset/interview-test.csv\")\n",
    "df.head(3)"
   ]
  },
  {
   "cell_type": "markdown",
   "id": "b9687ef6",
   "metadata": {},
   "source": [
    "- salesdate: the day sales happen\n",
    "- menuid: menu identification for the menu. (sometimes same menuname not gruanted to have identical menuid)\n",
    "- menuname: name of the menu. (FS means flash sales, B1G1 means buy 1 get 1, etc)\n",
    "- qty_total: total of menu ordered"
   ]
  },
  {
   "cell_type": "code",
   "execution_count": 33,
   "id": "6ef39266",
   "metadata": {},
   "outputs": [
    {
     "name": "stdout",
     "output_type": "stream",
     "text": [
      "<class 'pandas.core.frame.DataFrame'>\n",
      "DatetimeIndex: 8902 entries, 2022-10-09 to 2022-12-02\n",
      "Data columns (total 4 columns):\n",
      " #   Column      Non-Null Count  Dtype \n",
      "---  ------      --------------  ----- \n",
      " 0   menuid      8902 non-null   int64 \n",
      " 1   menuname    8902 non-null   object\n",
      " 2   menu_group  8902 non-null   object\n",
      " 3   qty_total   8902 non-null   int64 \n",
      "dtypes: int64(2), object(2)\n",
      "memory usage: 347.7+ KB\n"
     ]
    }
   ],
   "source": [
    "df.info()"
   ]
  },
  {
   "cell_type": "code",
   "execution_count": 34,
   "id": "10e459ea",
   "metadata": {},
   "outputs": [
    {
     "data": {
      "text/html": [
       "<div>\n",
       "<style scoped>\n",
       "    .dataframe tbody tr th:only-of-type {\n",
       "        vertical-align: middle;\n",
       "    }\n",
       "\n",
       "    .dataframe tbody tr th {\n",
       "        vertical-align: top;\n",
       "    }\n",
       "\n",
       "    .dataframe thead th {\n",
       "        text-align: right;\n",
       "    }\n",
       "</style>\n",
       "<table border=\"1\" class=\"dataframe\">\n",
       "  <thead>\n",
       "    <tr style=\"text-align: right;\">\n",
       "      <th></th>\n",
       "      <th>count</th>\n",
       "      <th>unique</th>\n",
       "      <th>top</th>\n",
       "      <th>freq</th>\n",
       "      <th>mean</th>\n",
       "      <th>std</th>\n",
       "      <th>min</th>\n",
       "      <th>25%</th>\n",
       "      <th>50%</th>\n",
       "      <th>75%</th>\n",
       "      <th>max</th>\n",
       "    </tr>\n",
       "  </thead>\n",
       "  <tbody>\n",
       "    <tr>\n",
       "      <th>menuid</th>\n",
       "      <td>8902.0</td>\n",
       "      <td>NaN</td>\n",
       "      <td>NaN</td>\n",
       "      <td>NaN</td>\n",
       "      <td>457.300719</td>\n",
       "      <td>238.769876</td>\n",
       "      <td>1.0</td>\n",
       "      <td>234.0</td>\n",
       "      <td>515.0</td>\n",
       "      <td>638.0</td>\n",
       "      <td>994.0</td>\n",
       "    </tr>\n",
       "    <tr>\n",
       "      <th>menuname</th>\n",
       "      <td>8902</td>\n",
       "      <td>370</td>\n",
       "      <td>Plastic Spoon</td>\n",
       "      <td>191</td>\n",
       "      <td>NaN</td>\n",
       "      <td>NaN</td>\n",
       "      <td>NaN</td>\n",
       "      <td>NaN</td>\n",
       "      <td>NaN</td>\n",
       "      <td>NaN</td>\n",
       "      <td>NaN</td>\n",
       "    </tr>\n",
       "    <tr>\n",
       "      <th>menu_group</th>\n",
       "      <td>8902</td>\n",
       "      <td>63</td>\n",
       "      <td>0</td>\n",
       "      <td>4665</td>\n",
       "      <td>NaN</td>\n",
       "      <td>NaN</td>\n",
       "      <td>NaN</td>\n",
       "      <td>NaN</td>\n",
       "      <td>NaN</td>\n",
       "      <td>NaN</td>\n",
       "      <td>NaN</td>\n",
       "    </tr>\n",
       "    <tr>\n",
       "      <th>qty_total</th>\n",
       "      <td>8902.0</td>\n",
       "      <td>NaN</td>\n",
       "      <td>NaN</td>\n",
       "      <td>NaN</td>\n",
       "      <td>1.132105</td>\n",
       "      <td>0.609869</td>\n",
       "      <td>1.0</td>\n",
       "      <td>1.0</td>\n",
       "      <td>1.0</td>\n",
       "      <td>1.0</td>\n",
       "      <td>21.0</td>\n",
       "    </tr>\n",
       "  </tbody>\n",
       "</table>\n",
       "</div>"
      ],
      "text/plain": [
       "             count unique            top  freq        mean         std  min  \\\n",
       "menuid      8902.0    NaN            NaN   NaN  457.300719  238.769876  1.0   \n",
       "menuname      8902    370  Plastic Spoon   191         NaN         NaN  NaN   \n",
       "menu_group    8902     63              0  4665         NaN         NaN  NaN   \n",
       "qty_total   8902.0    NaN            NaN   NaN    1.132105    0.609869  1.0   \n",
       "\n",
       "              25%    50%    75%    max  \n",
       "menuid      234.0  515.0  638.0  994.0  \n",
       "menuname      NaN    NaN    NaN    NaN  \n",
       "menu_group    NaN    NaN    NaN    NaN  \n",
       "qty_total     1.0    1.0    1.0   21.0  "
      ]
     },
     "execution_count": 34,
     "metadata": {},
     "output_type": "execute_result"
    }
   ],
   "source": [
    "df.describe(include = ['object','int','float']).T"
   ]
  },
  {
   "cell_type": "code",
   "execution_count": 27,
   "id": "ab5df105",
   "metadata": {},
   "outputs": [
    {
     "data": {
      "text/plain": [
       "(8902, 5)"
      ]
     },
     "execution_count": 27,
     "metadata": {},
     "output_type": "execute_result"
    }
   ],
   "source": [
    "df.shape"
   ]
  },
  {
   "cell_type": "markdown",
   "id": "2c138e9b",
   "metadata": {},
   "source": [
    "## Preprocessing data for EDA"
   ]
  },
  {
   "cell_type": "code",
   "execution_count": 28,
   "id": "371f81f1",
   "metadata": {},
   "outputs": [],
   "source": [
    "menu_grup_unique = df[\"menu_group\"].unique()\n",
    "menu_name_unique = df[\"menuname\"].unique()"
   ]
  },
  {
   "cell_type": "code",
   "execution_count": 29,
   "id": "866bf48e",
   "metadata": {},
   "outputs": [],
   "source": [
    "df['new_col'] = list(zip(df.menu_group, df.menuname))\n",
    "\n",
    "\"\"\"\n",
    "menu_dict = {menu_group: [menu_name]}. menu dict is used to know how many different menu_name in each menu_group\n",
    "\"\"\"\n",
    "\n",
    "menu_dict = {}\n",
    "for menu_zipped in df['new_col'].unique():\n",
    "    for i,data in enumerate(menu_zipped):\n",
    "        if(i == 0):\n",
    "            key = data\n",
    "            if(key not in menu_dict.keys()):\n",
    "                menu_dict[key] = list()\n",
    "        if(i == 1):\n",
    "            if(data not in menu_dict[key]):\n",
    "                menu_dict[key].append(data)\n",
    "df.drop('new_col',axis = 1,inplace = True)"
   ]
  },
  {
   "cell_type": "code",
   "execution_count": 30,
   "id": "48371857",
   "metadata": {
    "collapsed": true
   },
   "outputs": [
    {
     "name": "stdout",
     "output_type": "stream",
     "text": [
      "0 : ['Premium Beef Deal', '[FS] Mac and Cheese', 'Plastic Spoon', '[FS] Sei Ayam Regular', 'Sambal Belimbing Wuluh', 'Sei Ayam Regular', 'Truffle Oil', 'Free Mac and Cheese', 'Caramelised Butter Chicken Rice', 'Premium Beef Deal (20K)', 'Plain Rice', 'JUJUTIZEN SET', 'Juju Daebak', 'Korean Seasoned Rice', 'Honey Butter Soy', 'Samyang', 'Seaweed Pepper', 'JUJU PARTY', 'Garlic Parmesan', 'Chefs Special', 'Voucher Red Rider Set', 'RED RIDER BUNDLE', 'Teriyaki Gyudon', 'Sayur Singkong + Telur Barendo - Longboard', 'Ninniku Gyudon', 'Sei Sultan Embe Regular', 'Sayur Daun Singkong + Telur Barendo - Small', 'Double Sayur Daun Singkong - Small', 'NaSei Goreng Pedas', 'Truffle Duo', 'Tambah 20RB dapat RYUJIN BEEF BOWL', 'Tambah 15RB dapat SEKFAN CHICKEN RICE BOWL', 'Sekfan Weekly Best Seller', 'Ryujin weekly Best Seller', '(ALC)Caramelised Butter Chicken', 'Legit Group Care', 'Sayur Daun Singkong + Telur Mata Sapi', 'Sambal Korek', 'Sambal Matah | Level 2 Judes Nagih', 'Tahu Crispy Cereal', 'Mac & Cheese Smoked Beef Junior', 'For You & your JunioRIAns', 'Berkah Berdua A', 'Kenyang Berdua SekFan', 'Vegetable Spring Rolls (3pcs)', 'Tumis Sayur Telur Orak Arik', 'Bukber Hemat B', '(ALC)Beef Black Pepper', 'Mie Judes Ayam', 'Bukber Hemat A', 'Shanghai Fried Rice', 'Beef Black Pepper Rice', 'Creamy Squad', 'Duo Sumatera', 'Sei Sapi Premium Sambal Rica', 'Self Love A', 'Self Love B', 'Show Your Love A', 'Paket Nagih A', '1 Protein + 1 Carbo (or Half - Half)', '(1/2) White Rice', 'Show Your Love B', 'Sei Sultan Sambal Rica', 'Show Your Love C', 'Jomblo 3', 'Cabe Garam Chicken CYO', 'Paket Cuan A', 'Mie Judes Sultan', 'Sambal Korek | Level 2 Judes Nagih', 'Bucin 1', 'Bucin 2', 'Bucin B1G1', 'Paket Nagih B', 'BUY 3 GET 1 FREE', 'Jomblo 1', '2 pcs Fried Chilli Garlic', 'Beijing Fried Noodles', 'PASTA MADNESS', '2 SEI SULTAN', 'CREATE YOUR OWN SEKFAN', 'Chilli Oil', 'Mau Free Iphone 14', 'Mau Free Airpods', 'Mau Free 1 Surprise Menu', 'SeiTan Bagi Bagi Hadiah 1', 'Pastaria Bagi Bagi Hadiah 1', 'Ryujin Bagi Bagi Hadiah 1', 'Pastaria Bagi Bagi Hadiah 2', 'Trio Asian Classic', 'Mau Free Corkcicle', 'Ryujin Bagi Bagi Hadiah 2', 'SekFan Bagi Bagi Hadiah 1', 'SekFan Bagi Bagi Hadiah 2', 'Mau Free Fine Dining at SKYE', 'SeiTan Bagi Bagi Hadiah 2', 'Classic Beef Deal (20K)', 'Classic Beef Deal', '(1/2) Buncis Bawang Putih', 'Sei Sapi Sambal Andaliman', 'Beef Deluxe', 'Sei Siram', 'Free Pastaria - 1 porsi Spaghetti', '3 SEI SAPI', 'Voucher Crimson Set', 'SWORDSMAN BUNDLE', '+CEBAN (10RB) DAPAT 2!', 'Chicken Deluxe', 'Paket Cengli Berdua', 'Jomblo 2', 'Paket Cuan B', 'Tebus Murah Chicken Katsu with Miso Mayo & Sambal Korek', 'Triple Italian Classic', 'Jagung Bakar', 'Steamed White Rice', 'Pasta Duo', 'Sambal Korek | Level 3 Judes Sadis', 'Sambal Matah | Level 3 Judes Sadis', 'PASTA PARTY', 'Angpao Hoki', 'CRIMSON BUNDLE', 'Double Sayur Daun Singkong - Longboard', 'Beef Black Pepper', '2 Siomay Ayam Goreng', '2 Pangsit Ayam Goreng', '2 Fried Chicken Siomay', '2 Fried Chicken Wonton', 'Lumpia Sayur Goreng (1pcs)', 'Vegetable Spring Rolls (1pcs)', 'Siomay Goreng (1pcs)', 'Mix Siomay & Pangsit Goreng (3pcs)', 'Puas - Tumis Sayur Telur Orak Arik', 'Buncis Bawang Putih ', 'SekFan Rice Bowl CYO', 'Puas - Vegetable Spring Rolls', 'Tahu Lada Garam', '(2 Pax) Telur mata sapi', '1 Protein + 1 Vegetables + 1/2 Carbo', 'Puas - Tahu Crispy Cereal', 'Curly Fries', 'Pastaria (Next Level Pasta)', \"B1G1 Nase'i Bungkus Ayam Padang\", 'Puas - Mix Siomay & Wonton', 'Bakwan Jagung (3pcs)', 'Paket Hampers isi 3', 'Snack Komplit (5pcs)', 'Mix Platter', 'Snack - Onion Rings', 'Snack - Curly Fries', 'SeiTan Rice Box', 'Onion Rings', 'Lychee Tea with Nata de Coco', '2 Lychee Tea with Nata de Coco', '3 Lychee Tea with Nata de Coco', 'Paket Bedug 1', 'Ramadan Puas 2', 'Ramadan Puas 1', 'Mix Siomay & Wonton (3pcs)', 'Paket Bedug 3', 'BukberRIA Ramean', 'Gorengan - Siomay & Pangsit Goreng', 'BukbeRIA Sendiri', 'Paket Bedug 2', 'BukbeRIA Berdua', 'Traktir Driver-mu', 'Double Sultan', 'Kenyang Berdua SekFan Komplit', 'Kenyang Bertiga SekFan Komplit', 'Berkah Bertiga', 'Berkah Berdua B', 'Signature Sek Fan Chicken Rice', 'Truffle Squad', 'Free Plastic Spoon & Fork', 'SeiKeluarga Makan Padang', 'Sei Ayam Embe Regular', 'Combo Seleb Viral!', 'Truffle & Friends', 'Gorengan - Lumpia Sayur Goreng', 'Tambah 15RB dapat SEKFAN CHICKEN RICE BOWL (P)', 'Fried Siomay (1pcs)', 'Fried Wonton (1pcs)', 'Paket BM A', 'Paket BM B', 'Big Sale A', 'Paket BM D', 'Big Sale C', 'Snack Single (1pc)', 'Deal C', 'Paket BM C', 'Paket BM E', '[Flash Sale] Sei Sultan', 'Paper Bag Brown Pastaria', 'Combo Blasteran', 'Tumis Sayur Telur Orak Arik (50g)', 'Berkah B1G1', 'Makin Sultan', 'Tahu Crispy Cereal (50g)', 'Tahu Lada Garam (50g)', 'Truffle Tuesday!', 'Sei Ayam Embe Small', 'Sei Sultan Mix (Sapi & Ayam) Sambal Rica', 'Truffle Buddies', 'Unicorn Calamansi', 'SekFan Gratis Minuman (Double A)', 'SekFan Gratis Minuman (Single)', '(2 Pax) Chicken skin 30gr', 'Pastaria Gratis Minuman (Single)', 'SeiTan Gratis Minuman (Single)', 'Pastaria Gratis Minuman (Double)', 'SeiTan Gratis Minuman (Double)', 'Bakwan Jagung', 'Ayam Tinoransak Ricebox', 'Pangsit Goreng (1pcs)']\n",
      "Spaghetti Prawn/Chicken Aglio Olio : ['[FS] Spaghetti Prawn/Chicken Aglio Olio']\n",
      "Teriyaki Gyudon : ['[FS] Teriyaki Gyudon Aburi', 'Tebus Murah Teriyaki Gyudon Aburi', '[FS2] Teriyaki Gyudon Aburi']\n",
      "Ninniku Gyudon : ['[FS] Ninniku Gyudon Aburi']\n",
      "Extra Item : ['Extra Sambal Andaliman', 'Extra Sei Sapi', 'Extra Sayur Singkong', 'Extra Smoked Beef', 'Extra Prawn', 'Extra Sambal Matah', 'Extra Sambal Embe', 'Extra Sambal Rica', 'Extra Nasi Putih', 'Extra Sei Sapi Premium (30gr)', 'Extra Prawn & Kani', 'Extra Sambal Belimbing Wuluh', 'Extra Telor Barendo', 'Extra Sambal Korek', 'Extra Sayur Daun Singkong Kecombrang']\n",
      "Spicy Gyudon : ['Spicy Gyudon Aburi', 'Spicy Gyudon', 'Best Deal Miso & Spicy Gyudon Aburi', '[FS] Spicy Gyudon', 'Free Ryujin - 1 porsi Spicy Gyudon', 'Truffle Gyudon Aburi, Spicy Gyudon, Miso Gyudon Aburi']\n",
      "Mentai Gyudon : ['Mentai Gyudon Aburi', '[FS] Mentai Gyudon Aburi']\n",
      "Black Pepper Chicken : ['[FS] Black Pepper Chicken Rice', 'Black Pepper Chicken Rice', 'Black Pepper Chicken', 'CYO Blackpepper Chicken', '(ALC)Black Pepper Chicken', '[FS2] Black Pepper Chicken Rice', '[FS] Blackpepper Chicken Rice']\n",
      "Classic Mentega Chicken : ['(ALC)Classic Mentega Chicken', '[FS]Classic Mentega Chicken Rice', 'Classic Mentega Chicken', 'CYO Classic Mentega Chicken']\n",
      "Sei Sapi sambal rica : ['Sei Sapi Rica Regular', 'Sei Sapi Rica Small', 'Sei Sapi Rica Sambal diatas daging']\n",
      "Sei Ayam Belimbing Wuluh : ['Sei Ayam Belimbing Wuluh Regular', 'Sei Ayam Belimbing Wuluh Small']\n",
      "Korean Fried Chicken Wings : ['5pcs Korean Fried Chicken Wings', '10pcs Korean Fried Chicken Wings', '20pcs Korean Fried Chicken Wings']\n",
      "Miso Gyudon : ['Miso Gyudon Aburi', '[FS] Miso Gyudon Aburi', ' Miso Gyudon Aburi + Truffle Gyudon Aburi']\n",
      "Sei Sultan sambal andaliman : ['Sei Sultan Andaliman Regular', 'Sei Sultan Andaliman Sambal pisah', 'Sei Sultan Andaliman Sambal diatas daging']\n",
      "Sei Sultan sambal rica : ['Sei Sultan Rica Regular', 'Tebus Murah Sei Sultan Mix Sambal Rica', 'Sei Sultan Rica sambal pisah']\n",
      "Crispy Cereal Chicken : ['(ALC)Crispy Cereal Chicken', '[FS] Signature Crispy Cereal Chicken Rice', 'Signature Crispy Cereal Chicken', '(ALC)Signature Crispy Cereal Chicken', 'CYO Crispy Cereal Chicken', '#BM Crispy Cereal Chicken CYO', '#BM 2 Crispy Cereal Chicken CYO', '#BM Crispy Cereal Chicken Rice']\n",
      "Sei Sapi Premium Longboard : ['Sei Sapi Premium Longboard']\n",
      "Sei Sapi sambal matah : ['Sei Sapi Matah Regular', 'Sei Sapi Matah Sambal dipisah', 'Sei Sapi Matah Small', 'Sei Sapi Matah Sambal diatas daging']\n",
      "Sei Ayam Longboard : ['Sei Ayam Longboard']\n",
      "Sei Sultan sambal matah : ['Sei Sultan Matah Regular', 'Sei Sultan Matah sambal pisah']\n",
      "Sei Sapi sambal Embe : ['Sei Sapi Embe Regular', 'Sei Sapi Embe Sambal dipisah']\n",
      "Sei Ayam sambal andaliman : ['Sei Ayam Andaliman Regular']\n",
      "Sei Ayam sambal matah : ['Sei Ayam Matah Regular', 'Sei Ayam Matah Small']\n",
      "Sei Sultan Belimbing Wuluh : ['Sei Sultan Belimbing Wuluh Regular', 'Sei Sultan Belimbing Wuluh sambal pisah']\n",
      "Sei Sapi sambal andaliman : ['Sei Sapi Andaliman Small', 'Sei Sapi Andaliman Regular', 'Sei Sapi Andaliman Sambal dipisah', 'Sei Sapi Andaliman Sambal diatas daging']\n",
      "Spaghetti Chicken & Mushroom Crema : ['[FS]Spaghetti Chicken & Mushroom Crema']\n",
      "Nasei Bungkus Ayam Padang : ['[FS] Nasei Bungkus Ayam Padang']\n",
      "Spaghetti with Truffle Cream and Chicken : ['[FS] Spaghetti with Truffle Cream and Chicken', 'Spaghetti with Truffle Cream and Chicken (Seasonal Menu)']\n",
      "Kung Pao Chicken : ['Kung Pao Chicken Rice', '(ALC)Kung Pao Chicken', 'Kung Pao Chicken']\n",
      "Buttermilk Chicken : ['(ALC)Buttermilk Chicken', 'Buttermilk Chicken']\n",
      "Spaghetti Sausage Alfredo Junior : ['Spaghetti Sausage Alfredo Junior']\n",
      "Nachos with Cajun Sauce : ['Nachos with Cajun Sauce']\n",
      "Korean Hot Sauce Chicken : ['Korean Hot Sauce Chicken Rice', 'Korean Hot Sauce Chicken', '(ALC)Korean Hot Sauce Chicken', '[FS] Korean Hot Sauce Chicken Rice']\n",
      "Classic Spaghetti Bolognese : ['[FS] Classic Spaghetti Bolognese', 'Classic Spaghetti Bolognese Junior', 'B1G1 Classic Spaghetti Bolognese', 'Classic Spaghetti Bolognese']\n",
      "Bumbu Cabe Garam Chicken : ['Bumbu Cabe Garam Chicken Rice', 'Bumbu Cabe Garam Chicken', '(ALC)Bumbu Cabe Garam Chicken']\n",
      "Chicken Skin : ['Chicken Skin (30gr)', 'Nachos and Crispy Chicken Skin with Cajun Sauce', 'Extra Chicken Skin', 'Nachos and Crispy Chicken Skin with Sambal', 'Chicken Skin Box', 'Nachos Chicken Skin with Bolognese Sauce']\n",
      "Chicken Dice Kungpao : ['Chicken Dice Kungpao Rice', '(ALC)Chicken Dice Kungpao', 'Chicken Dice Kungpao']\n",
      "Chicken Katsu Don : ['B1G1 Chicken Katsu Don', 'B1G1 Beef Bowl FREE Chicken Katsu Don', '+15Ribu dapat Ryujin Chicken Katsu Don']\n",
      "Spaghetti Spicy Seafood Mentai : ['B1G1 Spaghetti Spicy Seafood Mentai', '[Flash Sale] Spaghetti Spicy Seafood Mentai', 'Tebus Murah Spaghetti Spicy Seafood Mentai']\n",
      "Spaghetti Samyang Carbonara : ['Mie Spaghetti Samyang Carbonara', 'B1G1 Mie Spaghetti Samyang Carbonara']\n",
      "Gyudon Aburi with Miso Mayo & Sambal Korek : ['[FS] Gyudon Aburi with Miso Mayo & Sambal Korek', 'Gyudon Aburi with Miso Mayo & Sambal Korek', 'Tebus Murah Gyudon Aburi with Miso Mayo & Sambal Korek']\n",
      "Beef Gyudon Aburi : ['B1G1 Beef Gyudon Aburi']\n",
      "Nasei Bungkus Sapi Padang : ['Nasei Bungkus Sapi Padang']\n",
      "Sei Ayam Juicy : ['Extra Sei Ayam Juicy (30gr)', 'Sei Ayam Juicy Sambal Rica']\n",
      "Caramelized Butter Chicken : ['Caramelized Butter Chicken Rice', 'Caramelized Butter Chicken CYO', '(ALC)Caramelized Butter Chicken', 'Spicy Caramelized Butter Chicken', 'Spicy Caramelized Butter Chicken Rice', 'Caramelized Butter Chicken']\n",
      "Sei Sapi Belimbing Wuluh  : ['Sei Sapi Belimbing Wuluh Regular']\n",
      "Nachos with Sambal : ['Nachos with Sambal']\n",
      "Sweet and Spicy Chicken : ['Sweet and Spicy Chicken Rice', '(ALC)Sweet and Spicy Chicken', 'Sweet and Spicy Chicken', '[FS] Sweet and Spicy Chicken Rice']\n",
      "Spaghetti Chicken Singapore Laksa : ['Spaghetti Chicken Singapore Laksa']\n",
      "Spaghetti Chicken Soto : ['Spaghetti Chicken Soto']\n",
      "Spaghetti Chicken Malaysian Kari : ['Spaghetti Chicken Malaysian Kari']\n",
      "Spaghetti Smoked Beef Garlic Butter : ['[FS] Spaghetti Smoked Beef Garlic Butter']\n",
      "Spaghetti Carbonara Smoked Beef : ['Tebus Murah Spaghetti Carbonara Smoked Beef']\n",
      "Spaghetti with Truffle Cream & Chicken : ['Tebus Murah Spaghetti with Truffle Cream & Chicken']\n",
      "Spaghetti Bolognese Brulee : ['Tebus Murah Spaghetti Bolognese Brulee', '[FS] Spaghetti Bolognese Brulee', 'B1G1 Spaghetti Bolognese Brulee']\n",
      "Sei Ayam sambal rica : ['Sei Ayam Rica Regular']\n",
      "Nachos with Bolognese Sauce : ['Nachos with Bolognese Sauce']\n",
      "Sei Ayam Platter : ['Sei Ayam Platter']\n",
      "Sei Sultan Platter : ['Sei Sultan Platter']\n",
      "Sei Sapi Platter : ['Sei Sapi Platter']\n",
      "Spaghetti Cakalang Cabe Ijo : ['Spaghetti Cakalang Cabe Ijo Aglio Olio']\n",
      "Spaghetti Gulai Ayam : ['Spaghetti Gulai Ayam']\n",
      "Truffle Gyudon : ['[Flash Sale] Creamy Truffle Gyudon Aburi']\n"
     ]
    }
   ],
   "source": [
    "for menu_group,menu_name in menu_dict.items():\n",
    "    print(f\"{menu_group} : {menu_name}\", end=\"\\n\")"
   ]
  },
  {
   "cell_type": "markdown",
   "id": "f17cf3a3",
   "metadata": {},
   "source": [
    "- Berdasarkan data pada variabel <b>menu_dict</b>, secara keseluruhan data pada kolom <b>menu_group</b> sudah mewakili jenis menu makanan itu sendiri dan pada data <b>menu_name</b> merupakan tambahan dari menu yang terdapat pada <b>menu_group</b> seperti adanya <i>flash sale</i>,  <i>buy 1 get 1</i>, tambahan porsi, dll. Oleh karena itu, perancangan model <i>demand forecasting</i> dilakukan pada <b>menu_group</b>\n",
    "- Based on the data in the <b>menu_dict</b> variable, overall, the data in the <b>menu_group</b> column represents the type of food menu itself, and the <b>menu_name</b> data is an additional description for the menus in <b>menu_group</b> , such as <i>flash sale</i>, <i>buy 1 get 1</i>, <i>extra portion</i>, etc. Therefore, the design of the demand forecasting model is performed based on the <b>menu_group</b>."
   ]
  },
  {
   "cell_type": "code",
   "execution_count": 31,
   "id": "8370be16",
   "metadata": {},
   "outputs": [],
   "source": [
    "df[\"salesdate\"] = pd.to_datetime(df[\"salesdate\"],format=\"%Y-%m-%d\")\n",
    "df.set_index(\"salesdate\",inplace = True)"
   ]
  },
  {
   "cell_type": "code",
   "execution_count": null,
   "id": "b82d9c29",
   "metadata": {},
   "outputs": [],
   "source": []
  },
  {
   "cell_type": "markdown",
   "id": "ccb6b855",
   "metadata": {},
   "source": [
    "## EDA"
   ]
  },
  {
   "cell_type": "code",
   "execution_count": null,
   "id": "060dda35",
   "metadata": {},
   "outputs": [],
   "source": []
  }
 ],
 "metadata": {
  "kernelspec": {
   "display_name": "Python 3 (ipykernel)",
   "language": "python",
   "name": "python3"
  },
  "language_info": {
   "codemirror_mode": {
    "name": "ipython",
    "version": 3
   },
   "file_extension": ".py",
   "mimetype": "text/x-python",
   "name": "python",
   "nbconvert_exporter": "python",
   "pygments_lexer": "ipython3",
   "version": "3.9.7"
  }
 },
 "nbformat": 4,
 "nbformat_minor": 5
}
